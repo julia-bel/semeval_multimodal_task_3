{
 "cells": [
  {
   "cell_type": "code",
   "execution_count": 1,
   "id": "4749b4ea",
   "metadata": {},
   "outputs": [],
   "source": [
    "import os\n",
    "os.environ['CUDA_DEVICE_ORDER']='PCI_BUS_ID'\n",
    "os.environ['CUDA_VISIBLE_DEVICES']='3'"
   ]
  },
  {
   "cell_type": "code",
   "execution_count": 3,
   "id": "10329ea1",
   "metadata": {},
   "outputs": [],
   "source": [
    "import random\n",
    "from torch.utils.data import Dataset, DataLoader\n",
    "\n",
    "from video_llama.processors import AlproVideoTrainProcessor\n",
    "from video_llama.processors.video_processor import load_video\n",
    "from video_llama.models.ImageBind.data import load_and_transform_audio_data"
   ]
  },
  {
   "cell_type": "markdown",
   "id": "f39ee784",
   "metadata": {},
   "source": [
    "## Data Preprocessing"
   ]
  },
  {
   "cell_type": "code",
   "execution_count": 4,
   "id": "750bea2a",
   "metadata": {},
   "outputs": [],
   "source": [
    "class VideoDataset(Dataset):\n",
    "    \n",
    "    def __init__(self, annotation, root=\"\", num_frames=8, resize_size=224):\n",
    "        self.annotation = annotation\n",
    "        self.root = root\n",
    "        self.num_frames = num_frames\n",
    "        self.resize_size = resize_size\n",
    "        self.transform = AlproVideoTrainProcessor(\n",
    "            image_size=resize_size,\n",
    "            n_frms=num_frames,\n",
    "        ).transform\n",
    "        \n",
    "    def __len__(self):\n",
    "        return len(self.annotation)\n",
    "        \n",
    "    def __getitem__(self, index, num_retries=10, device=\"cpu\"):\n",
    "        result = {}\n",
    "        for _ in range(num_retries):\n",
    "            sample = self.annotation[index]\n",
    "            video_path = \"/\".join([self.root, sample[\"video\"]])\n",
    "            try:\n",
    "                video = load_video(\n",
    "                    video_path=video_path,\n",
    "                    n_frms=self.num_frames,\n",
    "                    height=self.resize_size,\n",
    "                    width=self.resize_size,\n",
    "                    sampling =\"uniform\",\n",
    "                    return_msg = False,\n",
    "                )\n",
    "                result[\"image\"] = self.transform(video)\n",
    "                result[\"text\"] = sample[\"text\"]\n",
    "                result[\"audio\"] = load_and_transform_audio_data(\n",
    "                    [video_path],\n",
    "                    device=device,\n",
    "                    clips_per_video=self.num_frames\n",
    "                )\n",
    "            except Exception as e:\n",
    "                print(\n",
    "                    f\"Failed to load sample: {e}.\",\n",
    "                    f\"Will randomly sample an example as a replacement.\"\n",
    "                )\n",
    "                index = random.randint(0, len(self) - 1)\n",
    "                continue\n",
    "            break\n",
    "        else:  \n",
    "            raise RuntimeError(f\"Failed to fetch sample after {num_retries} retries.\")\n",
    "        return result"
   ]
  },
  {
   "cell_type": "code",
   "execution_count": 6,
   "id": "de809141",
   "metadata": {},
   "outputs": [],
   "source": [
    "root = \"/code/Video-LLaMA\"\n",
    "annotation = [\n",
    "    {\"video\": \"examples/birthday.mp4\", \"text\": \"birthday party\"},\n",
    "    {\"video\": \"examples/boat.mp4\", \"text\": \"floating boat\"},\n",
    "]\n",
    "\n",
    "dataset = VideoDataset(annotation, root)\n",
    "loader = DataLoader(dataset, batch_size=1, num_workers=1)"
   ]
  },
  {
   "cell_type": "markdown",
   "id": "08b70e87",
   "metadata": {},
   "source": [
    "## Test"
   ]
  },
  {
   "cell_type": "code",
   "execution_count": 7,
   "id": "cf96c5c4",
   "metadata": {},
   "outputs": [],
   "source": [
    "import torch\n",
    "from omegaconf import OmegaConf\n",
    "from backbone import VideoLLAMABackbone"
   ]
  },
  {
   "cell_type": "code",
   "execution_count": 8,
   "id": "36816f4c",
   "metadata": {},
   "outputs": [
    {
     "name": "stdout",
     "output_type": "stream",
     "text": [
      "Load first Checkpoint: /code/Video-LLaMA/ckpt_12b/VL_LLaMA_2_13B_Finetuned.pth\n",
      "Load second Checkpoint: /code/Video-LLaMA/ckpt_12b/AL_LLaMA_2_13B_Finetuned.pth\n"
     ]
    }
   ],
   "source": [
    "device = torch.device(\"cuda\")\n",
    "config = OmegaConf.load(\"config.yaml\")\n",
    "model = VideoLLAMABackbone.from_config(config).to(device)"
   ]
  },
  {
   "cell_type": "code",
   "execution_count": 10,
   "id": "422b087c",
   "metadata": {},
   "outputs": [
    {
     "name": "stdout",
     "output_type": "stream",
     "text": [
      "Failed to load sample: Source stream index out of range. Will randomly sample an example as a replacement.\n",
      "Failed to load sample: Source stream index out of range. Will randomly sample an example as a replacement.\n",
      "Failed to load sample: Source stream index out of range. Will randomly sample an example as a replacement.\n",
      "torch.Size([1, 32, 5120])\n"
     ]
    }
   ],
   "source": [
    "sample = next(iter(loader))\n",
    "output = model(sample[\"image\"].to(device))\n",
    "print(output.shape)"
   ]
  },
  {
   "cell_type": "code",
   "execution_count": null,
   "id": "168aa130",
   "metadata": {},
   "outputs": [],
   "source": []
  }
 ],
 "metadata": {
  "kernelspec": {
   "display_name": "Python 3 (ipykernel)",
   "language": "python",
   "name": "python3"
  },
  "language_info": {
   "codemirror_mode": {
    "name": "ipython",
    "version": 3
   },
   "file_extension": ".py",
   "mimetype": "text/x-python",
   "name": "python",
   "nbconvert_exporter": "python",
   "pygments_lexer": "ipython3",
   "version": "3.9.18"
  }
 },
 "nbformat": 4,
 "nbformat_minor": 5
}
