{
 "cells": [
  {
   "cell_type": "markdown",
   "metadata": {},
   "source": [
    "### Upload initial dataset to huggingface"
   ]
  },
  {
   "cell_type": "code",
   "execution_count": 1,
   "metadata": {},
   "outputs": [
    {
     "name": "stderr",
     "output_type": "stream",
     "text": [
      "/opt/conda/lib/python3.10/site-packages/tqdm/auto.py:21: TqdmWarning: IProgress not found. Please update jupyter and ipywidgets. See https://ipywidgets.readthedocs.io/en/stable/user_install.html\n",
      "  from .autonotebook import tqdm as notebook_tqdm\n",
      "train.tar.gz: 100%|██████████| 7.40G/7.40G [20:02<00:00, 6.15MB/s]   \n"
     ]
    },
    {
     "data": {
      "text/plain": [
       "CommitInfo(commit_url='https://huggingface.co/datasets/dim/SemEvalSubtask2/commit/412897cd0f4f1e1bdca4837a227d589100c0e356', commit_message='Upload folder using huggingface_hub', commit_description='', oid='412897cd0f4f1e1bdca4837a227d589100c0e356', pr_url=None, pr_revision=None, pr_num=None)"
      ]
     },
     "execution_count": 1,
     "metadata": {},
     "output_type": "execute_result"
    }
   ],
   "source": [
    "# from huggingface_hub import HfApi\n",
    "\n",
    "# api = HfApi()\n",
    "\n",
    "# api.upload_folder(\n",
    "#     folder_path=\"SemEval-2024_Task3\",\n",
    "#     repo_id=\"dim/SemEvalSubtask2\",\n",
    "#     repo_type=\"dataset\",\n",
    "#     ignore_patterns=[\"*.mp4\"],\n",
    "#     token=open(\"/code/hf_token\").read(),\n",
    "# )"
   ]
  },
  {
   "cell_type": "code",
   "execution_count": 8,
   "metadata": {},
   "outputs": [],
   "source": [
    "from datasets import load_dataset\n",
    "from torchvision.io import read_video\n",
    "import json\n",
    "import torch\n",
    "import os"
   ]
  },
  {
   "cell_type": "code",
   "execution_count": 16,
   "metadata": {},
   "outputs": [],
   "source": [
    "dataset = json.loads(open(\"./SemEval-2024_Task3/training_data/Subtask_2_train.json\").read())\n",
    "# dataset = json.loads(open(\"SemEval-2024_Task3/trial_data/Subtask_2_trial.json\").read())"
   ]
  },
  {
   "cell_type": "code",
   "execution_count": 17,
   "metadata": {},
   "outputs": [
    {
     "data": {
      "text/plain": [
       "{'conversation_ID': 1,\n",
       " 'conversation': [{'utterance_ID': 1,\n",
       "   'text': 'Alright , so I am back in high school , I am standing in the middle of the cafeteria , and I realize I am totally naked .',\n",
       "   'speaker': 'Chandler',\n",
       "   'emotion': 'neutral',\n",
       "   'video_name': 'dia1utt1.mp4'},\n",
       "  {'utterance_ID': 2,\n",
       "   'text': 'Oh , yeah . Had that dream .',\n",
       "   'speaker': 'All',\n",
       "   'emotion': 'neutral',\n",
       "   'video_name': 'dia1utt2.mp4'},\n",
       "  {'utterance_ID': 3,\n",
       "   'text': 'Then I look down , and I realize there is a phone ... there .',\n",
       "   'speaker': 'Chandler',\n",
       "   'emotion': 'surprise',\n",
       "   'video_name': 'dia1utt3.mp4'},\n",
       "  {'utterance_ID': 4,\n",
       "   'text': 'Instead of ... ?',\n",
       "   'speaker': 'Joey',\n",
       "   'emotion': 'surprise',\n",
       "   'video_name': 'dia1utt4.mp4'},\n",
       "  {'utterance_ID': 5,\n",
       "   'text': 'That is right .',\n",
       "   'speaker': 'Chandler',\n",
       "   'emotion': 'anger',\n",
       "   'video_name': 'dia1utt5.mp4'},\n",
       "  {'utterance_ID': 6,\n",
       "   'text': 'Never had that dream .',\n",
       "   'speaker': 'Joey',\n",
       "   'emotion': 'neutral',\n",
       "   'video_name': 'dia1utt6.mp4'},\n",
       "  {'utterance_ID': 7,\n",
       "   'text': 'No .',\n",
       "   'speaker': 'Phoebe',\n",
       "   'emotion': 'neutral',\n",
       "   'video_name': 'dia1utt7.mp4'},\n",
       "  {'utterance_ID': 8,\n",
       "   'text': 'All of a sudden , the phone starts to ring .',\n",
       "   'speaker': 'Chandler',\n",
       "   'emotion': 'neutral',\n",
       "   'video_name': 'dia1utt8.mp4'}],\n",
       " 'emotion-cause_pairs': [['3_surprise', '1'],\n",
       "  ['3_surprise', '3'],\n",
       "  ['4_surprise', '1'],\n",
       "  ['4_surprise', '3'],\n",
       "  ['4_surprise', '4'],\n",
       "  ['5_anger', '1'],\n",
       "  ['5_anger', '3'],\n",
       "  ['5_anger', '4']]}"
      ]
     },
     "execution_count": 17,
     "metadata": {},
     "output_type": "execute_result"
    }
   ],
   "source": [
    "dataset[0]"
   ]
  },
  {
   "cell_type": "code",
   "execution_count": 18,
   "metadata": {},
   "outputs": [
    {
     "data": {
      "text/plain": [
       "set()"
      ]
     },
     "execution_count": 18,
     "metadata": {},
     "output_type": "execute_result"
    }
   ],
   "source": [
    "all_video_names = []\n",
    "for conversation in dataset:\n",
    "    video_names = [item['video_name'] for item in conversation['conversation']] \n",
    "    # print(video_names)\n",
    "    all_video_names.extend(video_names)\n",
    "    # break\n",
    "all_video_names = set(all_video_names)\n",
    "all_video_files = set(os.listdir('SemEval-2024_Task3/training_data/train'))\n",
    "all_video_files - all_video_names "
   ]
  },
  {
   "cell_type": "code",
   "execution_count": 20,
   "metadata": {},
   "outputs": [],
   "source": [
    "from torchvision.datasets import VisionDataset\n",
    "import torchvision\n",
    "\n",
    "\n",
    "class SemEvalSubtask2(VisionDataset):\n",
    "    pass"
   ]
  }
 ],
 "metadata": {
  "kernelspec": {
   "display_name": "base",
   "language": "python",
   "name": "python3"
  },
  "language_info": {
   "codemirror_mode": {
    "name": "ipython",
    "version": 3
   },
   "file_extension": ".py",
   "mimetype": "text/x-python",
   "name": "python",
   "nbconvert_exporter": "python",
   "pygments_lexer": "ipython3",
   "version": "3.10.13"
  }
 },
 "nbformat": 4,
 "nbformat_minor": 2
}
