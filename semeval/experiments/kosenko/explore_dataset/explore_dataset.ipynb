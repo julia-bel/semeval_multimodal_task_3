{
 "cells": [
  {
   "cell_type": "markdown",
   "metadata": {},
   "source": [
    "### Upload initial dataset to huggingface"
   ]
  },
  {
   "cell_type": "code",
   "execution_count": 1,
   "metadata": {},
   "outputs": [
    {
     "name": "stderr",
     "output_type": "stream",
     "text": [
      "/home/kosenko/miniconda3/lib/python3.10/site-packages/tqdm/auto.py:21: TqdmWarning: IProgress not found. Please update jupyter and ipywidgets. See https://ipywidgets.readthedocs.io/en/stable/user_install.html\n",
      "  from .autonotebook import tqdm as notebook_tqdm\n"
     ]
    }
   ],
   "source": [
    "from huggingface_hub import HfApi\n",
    "\n",
    "api = HfApi()\n",
    "\n",
    "# api.upload_folder(\n",
    "#     folder_path=\"semeval/experiments/kosenko/language_bind/train_results/kosenko_exp_1\",\n",
    "#     repo_id=\"dim/SemEvalParticipants_models\",\n",
    "#     path_in_repo=\"kosenko_exp_1\",\n",
    "#     repo_type=\"model\",\n",
    "#     # ignore_patterns=[\"*.mp4\"],\n",
    "#     token=open(\"/code/hf_token\").read(),\n",
    "# )\n",
    "# api.upload_file(\n",
    "#     path_or_fileobj=\"SemEval-2024_Task3/training_data/all_videos_and_audios.tar.gz\",\n",
    "#     path_in_repo=\"training_data/all_videos_and_audios.tar.gz\",\n",
    "#     repo_id=\"dim/SemEvalSubtask2\",\n",
    "#     repo_type=\"dataset\",\n",
    "#     token=open(\"./hf_token\").read(),\n",
    "# )"
   ]
  },
  {
   "cell_type": "markdown",
   "metadata": {},
   "source": [
    "### Explore Dataset"
   ]
  },
  {
   "cell_type": "code",
   "execution_count": 3,
   "metadata": {},
   "outputs": [],
   "source": [
    "from datasets import load_dataset\n",
    "from torchvision.io import read_video\n",
    "import json\n",
    "import torch\n",
    "import os"
   ]
  },
  {
   "cell_type": "code",
   "execution_count": 4,
   "metadata": {},
   "outputs": [],
   "source": [
    "dataset = json.loads(\n",
    "    open(\"./SemEval-2024_Task3/training_data/Subtask_2_train.json\").read()\n",
    ")\n",
    "\n",
    "\n",
    "# dataset = json.loads(open(\"SemEval-2024_Task3/trial_data/Subtask_2_trial.json\").read())"
   ]
  },
  {
   "cell_type": "code",
   "execution_count": 5,
   "metadata": {},
   "outputs": [
    {
     "data": {
      "text/plain": [
       "{'conversation_ID': 1,\n",
       " 'conversation': [{'utterance_ID': 1,\n",
       "   'text': 'Alright , so I am back in high school , I am standing in the middle of the cafeteria , and I realize I am totally naked .',\n",
       "   'speaker': 'Chandler',\n",
       "   'emotion': 'neutral',\n",
       "   'video_name': 'dia1utt1.mp4'},\n",
       "  {'utterance_ID': 2,\n",
       "   'text': 'Oh , yeah . Had that dream .',\n",
       "   'speaker': 'All',\n",
       "   'emotion': 'neutral',\n",
       "   'video_name': 'dia1utt2.mp4'},\n",
       "  {'utterance_ID': 3,\n",
       "   'text': 'Then I look down , and I realize there is a phone ... there .',\n",
       "   'speaker': 'Chandler',\n",
       "   'emotion': 'surprise',\n",
       "   'video_name': 'dia1utt3.mp4'},\n",
       "  {'utterance_ID': 4,\n",
       "   'text': 'Instead of ... ?',\n",
       "   'speaker': 'Joey',\n",
       "   'emotion': 'surprise',\n",
       "   'video_name': 'dia1utt4.mp4'},\n",
       "  {'utterance_ID': 5,\n",
       "   'text': 'That is right .',\n",
       "   'speaker': 'Chandler',\n",
       "   'emotion': 'anger',\n",
       "   'video_name': 'dia1utt5.mp4'},\n",
       "  {'utterance_ID': 6,\n",
       "   'text': 'Never had that dream .',\n",
       "   'speaker': 'Joey',\n",
       "   'emotion': 'neutral',\n",
       "   'video_name': 'dia1utt6.mp4'},\n",
       "  {'utterance_ID': 7,\n",
       "   'text': 'No .',\n",
       "   'speaker': 'Phoebe',\n",
       "   'emotion': 'neutral',\n",
       "   'video_name': 'dia1utt7.mp4'},\n",
       "  {'utterance_ID': 8,\n",
       "   'text': 'All of a sudden , the phone starts to ring .',\n",
       "   'speaker': 'Chandler',\n",
       "   'emotion': 'neutral',\n",
       "   'video_name': 'dia1utt8.mp4'}],\n",
       " 'emotion-cause_pairs': [['3_surprise', '1'],\n",
       "  ['3_surprise', '3'],\n",
       "  ['4_surprise', '1'],\n",
       "  ['4_surprise', '3'],\n",
       "  ['4_surprise', '4'],\n",
       "  ['5_anger', '1'],\n",
       "  ['5_anger', '3'],\n",
       "  ['5_anger', '4']]}"
      ]
     },
     "execution_count": 5,
     "metadata": {},
     "output_type": "execute_result"
    }
   ],
   "source": [
    "dataset[0]"
   ]
  },
  {
   "cell_type": "code",
   "execution_count": 6,
   "metadata": {},
   "outputs": [
    {
     "data": {
      "text/plain": [
       "{'conversation_ID': 2,\n",
       " 'conversation': [{'utterance_ID': 1,\n",
       "   'text': 'I do not want to be single , okay ? I just ... I just ... I just wanna be married again !',\n",
       "   'speaker': 'Ross',\n",
       "   'emotion': 'sadness',\n",
       "   'video_name': 'dia2utt1.mp4'},\n",
       "  {'utterance_ID': 2,\n",
       "   'text': 'And I just want a million dollars !',\n",
       "   'speaker': 'Chandler',\n",
       "   'emotion': 'neutral',\n",
       "   'video_name': 'dia2utt2.mp4'},\n",
       "  {'utterance_ID': 3,\n",
       "   'text': 'Rachel ? !',\n",
       "   'speaker': 'Monica',\n",
       "   'emotion': 'surprise',\n",
       "   'video_name': 'dia2utt3.mp4'}],\n",
       " 'emotion-cause_pairs': [['1_sadness', '1'], ['3_surprise', '3']]}"
      ]
     },
     "execution_count": 6,
     "metadata": {},
     "output_type": "execute_result"
    }
   ],
   "source": [
    "dataset[1]"
   ]
  },
  {
   "cell_type": "code",
   "execution_count": 7,
   "metadata": {},
   "outputs": [
    {
     "data": {
      "text/plain": [
       "{'conversation_ID': 3,\n",
       " 'conversation': [{'utterance_ID': 1,\n",
       "   'text': 'Oh my God !',\n",
       "   'speaker': 'Monica',\n",
       "   'emotion': 'surprise',\n",
       "   'video_name': 'dia3utt1.mp4'},\n",
       "  {'utterance_ID': 2,\n",
       "   'text': 'I know , I know , I am such an idiot .',\n",
       "   'speaker': 'Paul',\n",
       "   'emotion': 'neutral',\n",
       "   'video_name': 'dia3utt2.mp4'},\n",
       "  {'utterance_ID': 3,\n",
       "   'text': 'I guess I should have caught on when she started going to the dentist four and five times a week . I mean , how clean can teeth get ?',\n",
       "   'speaker': 'Paul',\n",
       "   'emotion': 'sadness',\n",
       "   'video_name': 'dia3utt3.mp4'},\n",
       "  {'utterance_ID': 4,\n",
       "   'text': 'My brother going through that right now , he is such a mess . How did you get through it ?',\n",
       "   'speaker': 'Monica',\n",
       "   'emotion': 'neutral',\n",
       "   'video_name': 'dia3utt4.mp4'},\n",
       "  {'utterance_ID': 5,\n",
       "   'text': 'Well , you might try accidentally breaking something valuable of hers , say her ...',\n",
       "   'speaker': 'Paul',\n",
       "   'emotion': 'neutral',\n",
       "   'video_name': 'dia3utt5.mp4'},\n",
       "  {'utterance_ID': 6,\n",
       "   'text': 'leg ?',\n",
       "   'speaker': 'Monica',\n",
       "   'emotion': 'surprise',\n",
       "   'video_name': 'dia3utt6.mp4'},\n",
       "  {'utterance_ID': 7,\n",
       "   'text': 'That is one way !',\n",
       "   'speaker': 'Paul',\n",
       "   'emotion': 'joy',\n",
       "   'video_name': 'dia3utt7.mp4'},\n",
       "  {'utterance_ID': 8,\n",
       "   'text': 'Me , I ... I went for the watch .',\n",
       "   'speaker': 'Paul',\n",
       "   'emotion': 'neutral',\n",
       "   'video_name': 'dia3utt8.mp4'},\n",
       "  {'utterance_ID': 9,\n",
       "   'text': 'You actually broke her watch ?',\n",
       "   'speaker': 'Monica',\n",
       "   'emotion': 'surprise',\n",
       "   'video_name': 'dia3utt9.mp4'}],\n",
       " 'emotion-cause_pairs': [['3_sadness', '3'],\n",
       "  ['6_surprise', '4'],\n",
       "  ['6_surprise', '5'],\n",
       "  ['6_surprise', '6'],\n",
       "  ['7_joy', '5'],\n",
       "  ['7_joy', '6'],\n",
       "  ['7_joy', '7'],\n",
       "  ['9_surprise', '5'],\n",
       "  ['9_surprise', '8'],\n",
       "  ['9_surprise', '9']]}"
      ]
     },
     "execution_count": 7,
     "metadata": {},
     "output_type": "execute_result"
    }
   ],
   "source": [
    "dataset[2]"
   ]
  },
  {
   "cell_type": "code",
   "execution_count": 5,
   "metadata": {},
   "outputs": [
    {
     "data": {
      "text/plain": [
       "{'conversation_ID': 4,\n",
       " 'conversation': [{'utterance_ID': 1,\n",
       "   'text': 'Barry , I am sorry ...',\n",
       "   'speaker': 'Rachel',\n",
       "   'emotion': 'sadness',\n",
       "   'video_name': 'dia4utt1.mp4'},\n",
       "  {'utterance_ID': 2,\n",
       "   'text': 'I am so sorry ...',\n",
       "   'speaker': 'Rachel',\n",
       "   'emotion': 'sadness',\n",
       "   'video_name': 'dia4utt2.mp4'},\n",
       "  {'utterance_ID': 3,\n",
       "   'text': 'I know you probably think that this is all about what I said the other day about you making love with your socks on , but it is not ... it is not , it is about me , and I ju ...',\n",
       "   'speaker': 'Rachel',\n",
       "   'emotion': 'sadness',\n",
       "   'video_name': 'dia4utt3.mp4'}],\n",
       " 'emotion-cause_pairs': []}"
      ]
     },
     "execution_count": 5,
     "metadata": {},
     "output_type": "execute_result"
    }
   ],
   "source": [
    "dataset[3]"
   ]
  },
  {
   "cell_type": "code",
   "execution_count": null,
   "metadata": {},
   "outputs": [],
   "source": []
  },
  {
   "cell_type": "code",
   "execution_count": 9,
   "metadata": {},
   "outputs": [
    {
     "data": {
      "text/plain": [
       "{'conversation_ID': 11,\n",
       " 'conversation': [{'utterance_ID': 1,\n",
       "   'text': 'I mean , why should I let them meet him ? I mean , I bring a guy home , and within five minutes they are all over him . I mean , they are like ... coyotes , picking off the weak members of the herd .',\n",
       "   'speaker': 'Monica',\n",
       "   'emotion': 'disgust',\n",
       "   'video_name': 'dia11utt1.mp4'},\n",
       "  {'utterance_ID': 2,\n",
       "   'text': 'Listen . As someone who seen more than her fair share of bad beef , I will tell you : that is not such a terrible thing .',\n",
       "   'speaker': 'Paula',\n",
       "   'emotion': 'neutral',\n",
       "   'video_name': 'dia11utt2.mp4'},\n",
       "  {'utterance_ID': 3,\n",
       "   'text': 'Come on , they are your friends , they are just looking out after you .',\n",
       "   'speaker': 'Paula',\n",
       "   'emotion': 'neutral',\n",
       "   'video_name': 'dia11utt3.mp4'},\n",
       "  {'utterance_ID': 4,\n",
       "   'text': 'I know . I just wish that once , I would bring a guy home that they actually liked .',\n",
       "   'speaker': 'Monica',\n",
       "   'emotion': 'sadness',\n",
       "   'video_name': 'dia11utt4.mp4'},\n",
       "  {'utterance_ID': 5,\n",
       "   'text': 'Well , you do realise the odds of that happening are a little slimmer if they never get to meet the guy ...',\n",
       "   'speaker': 'Paula',\n",
       "   'emotion': 'neutral',\n",
       "   'video_name': 'dia11utt5.mp4'}],\n",
       " 'emotion-cause_pairs': [['1_disgust', '1'], ['4_sadness', '4']]}"
      ]
     },
     "execution_count": 9,
     "metadata": {},
     "output_type": "execute_result"
    }
   ],
   "source": [
    "dataset[10]"
   ]
  },
  {
   "cell_type": "code",
   "execution_count": 10,
   "metadata": {},
   "outputs": [
    {
     "data": {
      "text/plain": [
       "{'conversation_ID': 130,\n",
       " 'conversation': [{'utterance_ID': 1,\n",
       "   'text': 'Four letters : \" Circle or hoop \" .',\n",
       "   'speaker': 'Ross',\n",
       "   'emotion': 'neutral',\n",
       "   'video_name': 'dia130utt1.mp4'},\n",
       "  {'utterance_ID': 2,\n",
       "   'text': 'Ring dammit , ring !',\n",
       "   'speaker': 'Chandler',\n",
       "   'emotion': 'anger',\n",
       "   'video_name': 'dia130utt2.mp4'},\n",
       "  {'utterance_ID': 3,\n",
       "   'text': 'Thanks .',\n",
       "   'speaker': 'Ross',\n",
       "   'emotion': 'neutral',\n",
       "   'video_name': 'dia130utt3.mp4'},\n",
       "  {'utterance_ID': 4,\n",
       "   'text': 'Hey , you know our phone not working ?',\n",
       "   'speaker': 'Joey',\n",
       "   'emotion': 'surprise',\n",
       "   'video_name': 'dia130utt4.mp4'},\n",
       "  {'utterance_ID': 5,\n",
       "   'text': 'What ? !',\n",
       "   'speaker': 'Chandler',\n",
       "   'emotion': 'surprise',\n",
       "   'video_name': 'dia130utt5.mp4'},\n",
       "  {'utterance_ID': 6,\n",
       "   'text': 'I tried to call you from the coffee shop , and there was no answer .',\n",
       "   'speaker': 'Joey',\n",
       "   'emotion': 'neutral',\n",
       "   'video_name': 'dia130utt6.mp4'},\n",
       "  {'utterance_ID': 7,\n",
       "   'text': 'I turned it off . Mother of God , I turned it off !',\n",
       "   'speaker': 'Chandler',\n",
       "   'emotion': 'anger',\n",
       "   'video_name': 'dia130utt7.mp4'},\n",
       "  {'utterance_ID': 8,\n",
       "   'text': 'Just like you told her you did ! ... Just pointing out the irony .',\n",
       "   'speaker': 'Monica',\n",
       "   'emotion': 'neutral',\n",
       "   'video_name': 'dia130utt8.mp4'},\n",
       "  {'utterance_ID': 9,\n",
       "   'text': 'Hey , so listen , I went across the street and talked to the doorman ... I got the peeper name ! Can I use the phone ?',\n",
       "   'speaker': 'Joey',\n",
       "   'emotion': 'anger',\n",
       "   'video_name': 'dia130utt9.mp4'},\n",
       "  {'utterance_ID': 10,\n",
       "   'text': 'Nngghhh ! ! ! ! ! ! !',\n",
       "   'speaker': 'Chandler',\n",
       "   'emotion': 'anger',\n",
       "   'video_name': 'dia130utt10.mp4'},\n",
       "  {'utterance_ID': 11,\n",
       "   'text': 'Can I use your phone ?',\n",
       "   'speaker': 'Joey',\n",
       "   'emotion': 'neutral',\n",
       "   'video_name': 'dia130utt11.mp4'},\n",
       "  {'utterance_ID': 12,\n",
       "   'text': 'Yeah , the number for a Sidney Marks , please .',\n",
       "   'speaker': 'Joey',\n",
       "   'emotion': 'neutral',\n",
       "   'video_name': 'dia130utt12.mp4'},\n",
       "  {'utterance_ID': 13,\n",
       "   'text': '\" Heating device . \"',\n",
       "   'speaker': 'Ross',\n",
       "   'emotion': 'neutral',\n",
       "   'video_name': 'dia130utt13.mp4'},\n",
       "  {'utterance_ID': 14,\n",
       "   'text': 'Radiator .',\n",
       "   'speaker': 'Phoebe',\n",
       "   'emotion': 'neutral',\n",
       "   'video_name': 'dia130utt14.mp4'},\n",
       "  {'utterance_ID': 15,\n",
       "   'text': 'Five letters .',\n",
       "   'speaker': 'Ross',\n",
       "   'emotion': 'neutral',\n",
       "   'video_name': 'dia130utt15.mp4'},\n",
       "  {'utterance_ID': 16,\n",
       "   'text': 'Rdtor .',\n",
       "   'speaker': 'Phoebe',\n",
       "   'emotion': 'neutral',\n",
       "   'video_name': 'dia130utt16.mp4'},\n",
       "  {'utterance_ID': 17,\n",
       "   'text': 'Yeah , is Sidney there ?',\n",
       "   'speaker': 'Joey',\n",
       "   'emotion': 'anger',\n",
       "   'video_name': 'dia130utt17.mp4'},\n",
       "  {'utterance_ID': 18,\n",
       "   'text': 'Oh , this is ?',\n",
       "   'speaker': 'Joey',\n",
       "   'emotion': 'surprise',\n",
       "   'video_name': 'dia130utt18.mp4'},\n",
       "  {'utterance_ID': 19,\n",
       "   'text': 'Sidney a woman .',\n",
       "   'speaker': 'Joey',\n",
       "   'emotion': 'surprise',\n",
       "   'video_name': 'dia130utt19.mp4'}],\n",
       " 'emotion-cause_pairs': [['2_anger', '2'],\n",
       "  ['4_surprise', '4'],\n",
       "  ['5_surprise', '4'],\n",
       "  ['7_anger', '4'],\n",
       "  ['7_anger', '7'],\n",
       "  ['9_anger', '9'],\n",
       "  ['10_anger', '9'],\n",
       "  ['17_anger', '9'],\n",
       "  ['18_surprise', '17'],\n",
       "  ['18_surprise', '18'],\n",
       "  ['18_surprise', '19'],\n",
       "  ['19_surprise', '19']]}"
      ]
     },
     "execution_count": 10,
     "metadata": {},
     "output_type": "execute_result"
    }
   ],
   "source": [
    "dataset[100]"
   ]
  },
  {
   "cell_type": "code",
   "execution_count": 6,
   "metadata": {},
   "outputs": [
    {
     "data": {
      "text/plain": [
       "1374"
      ]
     },
     "execution_count": 6,
     "metadata": {},
     "output_type": "execute_result"
    }
   ],
   "source": [
    "len(dataset)"
   ]
  },
  {
   "cell_type": "code",
   "execution_count": 7,
   "metadata": {},
   "outputs": [],
   "source": [
    "import datasets\n",
    "\n",
    "all_data = datasets.Dataset.from_list(dataset)\n",
    "all_data = all_data.train_test_split(\n",
    "    test_size=0.08,\n",
    "    seed=42,\n",
    ")"
   ]
  },
  {
   "cell_type": "code",
   "execution_count": 8,
   "metadata": {},
   "outputs": [
    {
     "data": {
      "text/plain": [
       "DatasetDict({\n",
       "    train: Dataset({\n",
       "        features: ['conversation_ID', 'conversation', 'emotion-cause_pairs'],\n",
       "        num_rows: 1264\n",
       "    })\n",
       "    test: Dataset({\n",
       "        features: ['conversation_ID', 'conversation', 'emotion-cause_pairs'],\n",
       "        num_rows: 110\n",
       "    })\n",
       "})"
      ]
     },
     "execution_count": 8,
     "metadata": {},
     "output_type": "execute_result"
    }
   ],
   "source": [
    "all_data"
   ]
  },
  {
   "cell_type": "code",
   "execution_count": 9,
   "metadata": {},
   "outputs": [
    {
     "name": "stderr",
     "output_type": "stream",
     "text": [
      "Creating parquet from Arrow format: 100%|██████████| 2/2 [00:00<00:00, 31.37ba/s]\n",
      "Pushing dataset shards to the dataset hub: 100%|██████████| 1/1 [00:01<00:00,  1.48s/it]\n",
      "Creating parquet from Arrow format: 100%|██████████| 1/1 [00:00<00:00, 163.66ba/s]\n",
      "Pushing dataset shards to the dataset hub: 100%|██████████| 1/1 [00:01<00:00,  1.14s/it]\n"
     ]
    }
   ],
   "source": [
    "all_data.push_to_hub('dim/semeval_subtask2_conversations')"
   ]
  },
  {
   "cell_type": "code",
   "execution_count": 11,
   "metadata": {},
   "outputs": [
    {
     "data": {
      "text/plain": [
       "{'conversation_ID': 187,\n",
       " 'conversation': [{'emotion': 'sadness',\n",
       "   'speaker': 'Monica',\n",
       "   'text': 'Mr . Heckles .',\n",
       "   'utterance_ID': 1,\n",
       "   'video_name': 'dia187utt1.mp4'},\n",
       "  {'emotion': 'neutral',\n",
       "   'speaker': 'Rachel',\n",
       "   'text': 'How did this happen ?',\n",
       "   'utterance_ID': 2,\n",
       "   'video_name': 'dia187utt2.mp4'},\n",
       "  {'emotion': 'neutral',\n",
       "   'speaker': 'Mr. Treeger',\n",
       "   'text': 'He musta been sweeping . They found a broom in his hand .',\n",
       "   'utterance_ID': 3,\n",
       "   'video_name': 'dia187utt3.mp4'},\n",
       "  {'emotion': 'sadness',\n",
       "   'speaker': 'Monica',\n",
       "   'text': 'That is terrible .',\n",
       "   'utterance_ID': 4,\n",
       "   'video_name': 'dia187utt4.mp4'},\n",
       "  {'emotion': 'neutral',\n",
       "   'speaker': 'Mr. Treeger',\n",
       "   'text': 'I know . I was sweeping yesterday . It coulda been me .',\n",
       "   'utterance_ID': 5,\n",
       "   'video_name': 'dia187utt5.mp4'},\n",
       "  {'emotion': 'neutral',\n",
       "   'speaker': 'Ross',\n",
       "   'text': 'Sure , you coulda . You never know .',\n",
       "   'utterance_ID': 6,\n",
       "   'video_name': 'dia187utt6.mp4'},\n",
       "  {'emotion': 'neutral',\n",
       "   'speaker': 'Mr. Treeger',\n",
       "   'text': 'You never know .',\n",
       "   'utterance_ID': 7,\n",
       "   'video_name': 'dia187utt7.mp4'}],\n",
       " 'emotion-cause_pairs': [['1_sadness', '1'],\n",
       "  ['4_sadness', '2'],\n",
       "  ['4_sadness', '3'],\n",
       "  ['4_sadness', '4']]}"
      ]
     },
     "execution_count": 11,
     "metadata": {},
     "output_type": "execute_result"
    }
   ],
   "source": [
    "all_data['train'][0]"
   ]
  }
 ],
 "metadata": {
  "kernelspec": {
   "display_name": "base",
   "language": "python",
   "name": "python3"
  },
  "language_info": {
   "codemirror_mode": {
    "name": "ipython",
    "version": 3
   },
   "file_extension": ".py",
   "mimetype": "text/x-python",
   "name": "python",
   "nbconvert_exporter": "python",
   "pygments_lexer": "ipython3",
   "version": "3.1.0"
  }
 },
 "nbformat": 4,
 "nbformat_minor": 2
}
