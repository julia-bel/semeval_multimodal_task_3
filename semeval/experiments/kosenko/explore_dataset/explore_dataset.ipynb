{
 "cells": [
  {
   "cell_type": "markdown",
   "metadata": {},
   "source": [
    "### Upload initial dataset to huggingface"
   ]
  },
  {
   "cell_type": "code",
   "execution_count": 1,
   "metadata": {},
   "outputs": [
    {
     "name": "stderr",
     "output_type": "stream",
     "text": [
      "/opt/conda/lib/python3.10/site-packages/tqdm/auto.py:21: TqdmWarning: IProgress not found. Please update jupyter and ipywidgets. See https://ipywidgets.readthedocs.io/en/stable/user_install.html\n",
      "  from .autonotebook import tqdm as notebook_tqdm\n",
      "all_videos_and_audios.tar.gz:  98%|█████████▊| 6.62G/6.73G [17:07<00:16, 6.45MB/s]   \n"
     ]
    },
    {
     "ename": "BadRequestError",
     "evalue": " (Request ID: Root=1-65a826ed-27b3927e615d5fcf3ea2c703;a2beb1e4-9413-4e78-bad5-19d1abd13f1e)\n\nBad request for commit endpoint:\nYour push was rejected because an LFS pointer pointed to a file that does not exist. For instance, this can happen if you used git push --no-verify to push your changes. Offending file: - training_data/all_videos_and_audios.tar.gz\nYour push was rejected because an LFS pointer pointed to a file that does not exist. For instance, this can happen if you used git push --no-verify to push your changes. Offending file:  - training_data/all_videos_and_audios.tar.gz",
     "output_type": "error",
     "traceback": [
      "\u001b[0;31m---------------------------------------------------------------------------\u001b[0m",
      "\u001b[0;31mHTTPError\u001b[0m                                 Traceback (most recent call last)",
      "File \u001b[0;32m~/.local/lib/python3.10/site-packages/huggingface_hub/utils/_errors.py:286\u001b[0m, in \u001b[0;36mhf_raise_for_status\u001b[0;34m(response, endpoint_name)\u001b[0m\n\u001b[1;32m    285\u001b[0m \u001b[38;5;28;01mtry\u001b[39;00m:\n\u001b[0;32m--> 286\u001b[0m     \u001b[43mresponse\u001b[49m\u001b[38;5;241;43m.\u001b[39;49m\u001b[43mraise_for_status\u001b[49m\u001b[43m(\u001b[49m\u001b[43m)\u001b[49m\n\u001b[1;32m    287\u001b[0m \u001b[38;5;28;01mexcept\u001b[39;00m HTTPError \u001b[38;5;28;01mas\u001b[39;00m e:\n",
      "File \u001b[0;32m/opt/conda/lib/python3.10/site-packages/requests/models.py:1021\u001b[0m, in \u001b[0;36mResponse.raise_for_status\u001b[0;34m(self)\u001b[0m\n\u001b[1;32m   1020\u001b[0m \u001b[38;5;28;01mif\u001b[39;00m http_error_msg:\n\u001b[0;32m-> 1021\u001b[0m     \u001b[38;5;28;01mraise\u001b[39;00m HTTPError(http_error_msg, response\u001b[38;5;241m=\u001b[39m\u001b[38;5;28mself\u001b[39m)\n",
      "\u001b[0;31mHTTPError\u001b[0m: 400 Client Error: Bad Request for url: https://huggingface.co/api/datasets/dim/SemEvalSubtask2/commit/main",
      "\nThe above exception was the direct cause of the following exception:\n",
      "\u001b[0;31mBadRequestError\u001b[0m                           Traceback (most recent call last)",
      "Cell \u001b[0;32mIn[1], line 12\u001b[0m\n\u001b[1;32m      3\u001b[0m api \u001b[38;5;241m=\u001b[39m HfApi()\n\u001b[1;32m      5\u001b[0m \u001b[38;5;66;03m# api.upload_folder(\u001b[39;00m\n\u001b[1;32m      6\u001b[0m \u001b[38;5;66;03m#     folder_path=\"SemEval-2024_Task3\",\u001b[39;00m\n\u001b[1;32m      7\u001b[0m \u001b[38;5;66;03m#     repo_id=\"dim/SemEvalSubtask2\",\u001b[39;00m\n\u001b[0;32m   (...)\u001b[0m\n\u001b[1;32m     10\u001b[0m \u001b[38;5;66;03m#     token=open(\"/code/hf_token\").read(),\u001b[39;00m\n\u001b[1;32m     11\u001b[0m \u001b[38;5;66;03m# )\u001b[39;00m\n\u001b[0;32m---> 12\u001b[0m \u001b[43mapi\u001b[49m\u001b[38;5;241;43m.\u001b[39;49m\u001b[43mupload_file\u001b[49m\u001b[43m(\u001b[49m\n\u001b[1;32m     13\u001b[0m \u001b[43m    \u001b[49m\u001b[43mpath_or_fileobj\u001b[49m\u001b[38;5;241;43m=\u001b[39;49m\u001b[38;5;124;43m\"\u001b[39;49m\u001b[38;5;124;43mSemEval-2024_Task3/training_data/all_videos_and_audios.tar.gz\u001b[39;49m\u001b[38;5;124;43m\"\u001b[39;49m\u001b[43m,\u001b[49m\n\u001b[1;32m     14\u001b[0m \u001b[43m    \u001b[49m\u001b[43mpath_in_repo\u001b[49m\u001b[38;5;241;43m=\u001b[39;49m\u001b[38;5;124;43m\"\u001b[39;49m\u001b[38;5;124;43mtraining_data/all_videos_and_audios.tar.gz\u001b[39;49m\u001b[38;5;124;43m\"\u001b[39;49m\u001b[43m,\u001b[49m\n\u001b[1;32m     15\u001b[0m \u001b[43m    \u001b[49m\u001b[43mrepo_id\u001b[49m\u001b[38;5;241;43m=\u001b[39;49m\u001b[38;5;124;43m\"\u001b[39;49m\u001b[38;5;124;43mdim/SemEvalSubtask2\u001b[39;49m\u001b[38;5;124;43m\"\u001b[39;49m\u001b[43m,\u001b[49m\n\u001b[1;32m     16\u001b[0m \u001b[43m    \u001b[49m\u001b[43mrepo_type\u001b[49m\u001b[38;5;241;43m=\u001b[39;49m\u001b[38;5;124;43m\"\u001b[39;49m\u001b[38;5;124;43mdataset\u001b[39;49m\u001b[38;5;124;43m\"\u001b[39;49m\u001b[43m,\u001b[49m\n\u001b[1;32m     17\u001b[0m \u001b[43m    \u001b[49m\u001b[43mtoken\u001b[49m\u001b[38;5;241;43m=\u001b[39;49m\u001b[38;5;28;43mopen\u001b[39;49m\u001b[43m(\u001b[49m\u001b[38;5;124;43m\"\u001b[39;49m\u001b[38;5;124;43m./hf_token\u001b[39;49m\u001b[38;5;124;43m\"\u001b[39;49m\u001b[43m)\u001b[49m\u001b[38;5;241;43m.\u001b[39;49m\u001b[43mread\u001b[49m\u001b[43m(\u001b[49m\u001b[43m)\u001b[49m\u001b[43m,\u001b[49m\n\u001b[1;32m     18\u001b[0m \u001b[43m)\u001b[49m\n",
      "File \u001b[0;32m~/.local/lib/python3.10/site-packages/huggingface_hub/utils/_validators.py:118\u001b[0m, in \u001b[0;36mvalidate_hf_hub_args.<locals>._inner_fn\u001b[0;34m(*args, **kwargs)\u001b[0m\n\u001b[1;32m    115\u001b[0m \u001b[38;5;28;01mif\u001b[39;00m check_use_auth_token:\n\u001b[1;32m    116\u001b[0m     kwargs \u001b[38;5;241m=\u001b[39m smoothly_deprecate_use_auth_token(fn_name\u001b[38;5;241m=\u001b[39mfn\u001b[38;5;241m.\u001b[39m\u001b[38;5;18m__name__\u001b[39m, has_token\u001b[38;5;241m=\u001b[39mhas_token, kwargs\u001b[38;5;241m=\u001b[39mkwargs)\n\u001b[0;32m--> 118\u001b[0m \u001b[38;5;28;01mreturn\u001b[39;00m \u001b[43mfn\u001b[49m\u001b[43m(\u001b[49m\u001b[38;5;241;43m*\u001b[39;49m\u001b[43margs\u001b[49m\u001b[43m,\u001b[49m\u001b[43m \u001b[49m\u001b[38;5;241;43m*\u001b[39;49m\u001b[38;5;241;43m*\u001b[39;49m\u001b[43mkwargs\u001b[49m\u001b[43m)\u001b[49m\n",
      "File \u001b[0;32m~/.local/lib/python3.10/site-packages/huggingface_hub/hf_api.py:1208\u001b[0m, in \u001b[0;36mfuture_compatible.<locals>._inner\u001b[0;34m(self, *args, **kwargs)\u001b[0m\n\u001b[1;32m   1205\u001b[0m     \u001b[38;5;28;01mreturn\u001b[39;00m \u001b[38;5;28mself\u001b[39m\u001b[38;5;241m.\u001b[39mrun_as_future(fn, \u001b[38;5;28mself\u001b[39m, \u001b[38;5;241m*\u001b[39margs, \u001b[38;5;241m*\u001b[39m\u001b[38;5;241m*\u001b[39mkwargs)\n\u001b[1;32m   1207\u001b[0m \u001b[38;5;66;03m# Otherwise, call the function normally\u001b[39;00m\n\u001b[0;32m-> 1208\u001b[0m \u001b[38;5;28;01mreturn\u001b[39;00m \u001b[43mfn\u001b[49m\u001b[43m(\u001b[49m\u001b[38;5;28;43mself\u001b[39;49m\u001b[43m,\u001b[49m\u001b[43m \u001b[49m\u001b[38;5;241;43m*\u001b[39;49m\u001b[43margs\u001b[49m\u001b[43m,\u001b[49m\u001b[43m \u001b[49m\u001b[38;5;241;43m*\u001b[39;49m\u001b[38;5;241;43m*\u001b[39;49m\u001b[43mkwargs\u001b[49m\u001b[43m)\u001b[49m\n",
      "File \u001b[0;32m~/.local/lib/python3.10/site-packages/huggingface_hub/hf_api.py:4248\u001b[0m, in \u001b[0;36mHfApi.upload_file\u001b[0;34m(self, path_or_fileobj, path_in_repo, repo_id, token, repo_type, revision, commit_message, commit_description, create_pr, parent_commit, run_as_future)\u001b[0m\n\u001b[1;32m   4240\u001b[0m commit_message \u001b[38;5;241m=\u001b[39m (\n\u001b[1;32m   4241\u001b[0m     commit_message \u001b[38;5;28;01mif\u001b[39;00m commit_message \u001b[38;5;129;01mis\u001b[39;00m \u001b[38;5;129;01mnot\u001b[39;00m \u001b[38;5;28;01mNone\u001b[39;00m \u001b[38;5;28;01melse\u001b[39;00m \u001b[38;5;124mf\u001b[39m\u001b[38;5;124m\"\u001b[39m\u001b[38;5;124mUpload \u001b[39m\u001b[38;5;132;01m{\u001b[39;00mpath_in_repo\u001b[38;5;132;01m}\u001b[39;00m\u001b[38;5;124m with huggingface_hub\u001b[39m\u001b[38;5;124m\"\u001b[39m\n\u001b[1;32m   4242\u001b[0m )\n\u001b[1;32m   4243\u001b[0m operation \u001b[38;5;241m=\u001b[39m CommitOperationAdd(\n\u001b[1;32m   4244\u001b[0m     path_or_fileobj\u001b[38;5;241m=\u001b[39mpath_or_fileobj,\n\u001b[1;32m   4245\u001b[0m     path_in_repo\u001b[38;5;241m=\u001b[39mpath_in_repo,\n\u001b[1;32m   4246\u001b[0m )\n\u001b[0;32m-> 4248\u001b[0m commit_info \u001b[38;5;241m=\u001b[39m \u001b[38;5;28;43mself\u001b[39;49m\u001b[38;5;241;43m.\u001b[39;49m\u001b[43mcreate_commit\u001b[49m\u001b[43m(\u001b[49m\n\u001b[1;32m   4249\u001b[0m \u001b[43m    \u001b[49m\u001b[43mrepo_id\u001b[49m\u001b[38;5;241;43m=\u001b[39;49m\u001b[43mrepo_id\u001b[49m\u001b[43m,\u001b[49m\n\u001b[1;32m   4250\u001b[0m \u001b[43m    \u001b[49m\u001b[43mrepo_type\u001b[49m\u001b[38;5;241;43m=\u001b[39;49m\u001b[43mrepo_type\u001b[49m\u001b[43m,\u001b[49m\n\u001b[1;32m   4251\u001b[0m \u001b[43m    \u001b[49m\u001b[43moperations\u001b[49m\u001b[38;5;241;43m=\u001b[39;49m\u001b[43m[\u001b[49m\u001b[43moperation\u001b[49m\u001b[43m]\u001b[49m\u001b[43m,\u001b[49m\n\u001b[1;32m   4252\u001b[0m \u001b[43m    \u001b[49m\u001b[43mcommit_message\u001b[49m\u001b[38;5;241;43m=\u001b[39;49m\u001b[43mcommit_message\u001b[49m\u001b[43m,\u001b[49m\n\u001b[1;32m   4253\u001b[0m \u001b[43m    \u001b[49m\u001b[43mcommit_description\u001b[49m\u001b[38;5;241;43m=\u001b[39;49m\u001b[43mcommit_description\u001b[49m\u001b[43m,\u001b[49m\n\u001b[1;32m   4254\u001b[0m \u001b[43m    \u001b[49m\u001b[43mtoken\u001b[49m\u001b[38;5;241;43m=\u001b[39;49m\u001b[43mtoken\u001b[49m\u001b[43m,\u001b[49m\n\u001b[1;32m   4255\u001b[0m \u001b[43m    \u001b[49m\u001b[43mrevision\u001b[49m\u001b[38;5;241;43m=\u001b[39;49m\u001b[43mrevision\u001b[49m\u001b[43m,\u001b[49m\n\u001b[1;32m   4256\u001b[0m \u001b[43m    \u001b[49m\u001b[43mcreate_pr\u001b[49m\u001b[38;5;241;43m=\u001b[39;49m\u001b[43mcreate_pr\u001b[49m\u001b[43m,\u001b[49m\n\u001b[1;32m   4257\u001b[0m \u001b[43m    \u001b[49m\u001b[43mparent_commit\u001b[49m\u001b[38;5;241;43m=\u001b[39;49m\u001b[43mparent_commit\u001b[49m\u001b[43m,\u001b[49m\n\u001b[1;32m   4258\u001b[0m \u001b[43m\u001b[49m\u001b[43m)\u001b[49m\n\u001b[1;32m   4260\u001b[0m \u001b[38;5;28;01mif\u001b[39;00m commit_info\u001b[38;5;241m.\u001b[39mpr_url \u001b[38;5;129;01mis\u001b[39;00m \u001b[38;5;129;01mnot\u001b[39;00m \u001b[38;5;28;01mNone\u001b[39;00m:\n\u001b[1;32m   4261\u001b[0m     revision \u001b[38;5;241m=\u001b[39m quote(_parse_revision_from_pr_url(commit_info\u001b[38;5;241m.\u001b[39mpr_url), safe\u001b[38;5;241m=\u001b[39m\u001b[38;5;124m\"\u001b[39m\u001b[38;5;124m\"\u001b[39m)\n",
      "File \u001b[0;32m~/.local/lib/python3.10/site-packages/huggingface_hub/utils/_validators.py:118\u001b[0m, in \u001b[0;36mvalidate_hf_hub_args.<locals>._inner_fn\u001b[0;34m(*args, **kwargs)\u001b[0m\n\u001b[1;32m    115\u001b[0m \u001b[38;5;28;01mif\u001b[39;00m check_use_auth_token:\n\u001b[1;32m    116\u001b[0m     kwargs \u001b[38;5;241m=\u001b[39m smoothly_deprecate_use_auth_token(fn_name\u001b[38;5;241m=\u001b[39mfn\u001b[38;5;241m.\u001b[39m\u001b[38;5;18m__name__\u001b[39m, has_token\u001b[38;5;241m=\u001b[39mhas_token, kwargs\u001b[38;5;241m=\u001b[39mkwargs)\n\u001b[0;32m--> 118\u001b[0m \u001b[38;5;28;01mreturn\u001b[39;00m \u001b[43mfn\u001b[49m\u001b[43m(\u001b[49m\u001b[38;5;241;43m*\u001b[39;49m\u001b[43margs\u001b[49m\u001b[43m,\u001b[49m\u001b[43m \u001b[49m\u001b[38;5;241;43m*\u001b[39;49m\u001b[38;5;241;43m*\u001b[39;49m\u001b[43mkwargs\u001b[49m\u001b[43m)\u001b[49m\n",
      "File \u001b[0;32m~/.local/lib/python3.10/site-packages/huggingface_hub/hf_api.py:1208\u001b[0m, in \u001b[0;36mfuture_compatible.<locals>._inner\u001b[0;34m(self, *args, **kwargs)\u001b[0m\n\u001b[1;32m   1205\u001b[0m     \u001b[38;5;28;01mreturn\u001b[39;00m \u001b[38;5;28mself\u001b[39m\u001b[38;5;241m.\u001b[39mrun_as_future(fn, \u001b[38;5;28mself\u001b[39m, \u001b[38;5;241m*\u001b[39margs, \u001b[38;5;241m*\u001b[39m\u001b[38;5;241m*\u001b[39mkwargs)\n\u001b[1;32m   1207\u001b[0m \u001b[38;5;66;03m# Otherwise, call the function normally\u001b[39;00m\n\u001b[0;32m-> 1208\u001b[0m \u001b[38;5;28;01mreturn\u001b[39;00m \u001b[43mfn\u001b[49m\u001b[43m(\u001b[49m\u001b[38;5;28;43mself\u001b[39;49m\u001b[43m,\u001b[49m\u001b[43m \u001b[49m\u001b[38;5;241;43m*\u001b[39;49m\u001b[43margs\u001b[49m\u001b[43m,\u001b[49m\u001b[43m \u001b[49m\u001b[38;5;241;43m*\u001b[39;49m\u001b[38;5;241;43m*\u001b[39;49m\u001b[43mkwargs\u001b[49m\u001b[43m)\u001b[49m\n",
      "File \u001b[0;32m~/.local/lib/python3.10/site-packages/huggingface_hub/hf_api.py:3600\u001b[0m, in \u001b[0;36mHfApi.create_commit\u001b[0;34m(self, repo_id, operations, commit_message, commit_description, token, repo_type, revision, create_pr, num_threads, parent_commit, run_as_future)\u001b[0m\n\u001b[1;32m   3598\u001b[0m \u001b[38;5;28;01mtry\u001b[39;00m:\n\u001b[1;32m   3599\u001b[0m     commit_resp \u001b[38;5;241m=\u001b[39m get_session()\u001b[38;5;241m.\u001b[39mpost(url\u001b[38;5;241m=\u001b[39mcommit_url, headers\u001b[38;5;241m=\u001b[39mheaders, data\u001b[38;5;241m=\u001b[39mdata, params\u001b[38;5;241m=\u001b[39mparams)\n\u001b[0;32m-> 3600\u001b[0m     \u001b[43mhf_raise_for_status\u001b[49m\u001b[43m(\u001b[49m\u001b[43mcommit_resp\u001b[49m\u001b[43m,\u001b[49m\u001b[43m \u001b[49m\u001b[43mendpoint_name\u001b[49m\u001b[38;5;241;43m=\u001b[39;49m\u001b[38;5;124;43m\"\u001b[39;49m\u001b[38;5;124;43mcommit\u001b[39;49m\u001b[38;5;124;43m\"\u001b[39;49m\u001b[43m)\u001b[49m\n\u001b[1;32m   3601\u001b[0m \u001b[38;5;28;01mexcept\u001b[39;00m RepositoryNotFoundError \u001b[38;5;28;01mas\u001b[39;00m e:\n\u001b[1;32m   3602\u001b[0m     e\u001b[38;5;241m.\u001b[39mappend_to_message(_CREATE_COMMIT_NO_REPO_ERROR_MESSAGE)\n",
      "File \u001b[0;32m~/.local/lib/python3.10/site-packages/huggingface_hub/utils/_errors.py:329\u001b[0m, in \u001b[0;36mhf_raise_for_status\u001b[0;34m(response, endpoint_name)\u001b[0m\n\u001b[1;32m    325\u001b[0m \u001b[38;5;28;01melif\u001b[39;00m response\u001b[38;5;241m.\u001b[39mstatus_code \u001b[38;5;241m==\u001b[39m \u001b[38;5;241m400\u001b[39m:\n\u001b[1;32m    326\u001b[0m     message \u001b[38;5;241m=\u001b[39m (\n\u001b[1;32m    327\u001b[0m         \u001b[38;5;124mf\u001b[39m\u001b[38;5;124m\"\u001b[39m\u001b[38;5;130;01m\\n\u001b[39;00m\u001b[38;5;130;01m\\n\u001b[39;00m\u001b[38;5;124mBad request for \u001b[39m\u001b[38;5;132;01m{\u001b[39;00mendpoint_name\u001b[38;5;132;01m}\u001b[39;00m\u001b[38;5;124m endpoint:\u001b[39m\u001b[38;5;124m\"\u001b[39m \u001b[38;5;28;01mif\u001b[39;00m endpoint_name \u001b[38;5;129;01mis\u001b[39;00m \u001b[38;5;129;01mnot\u001b[39;00m \u001b[38;5;28;01mNone\u001b[39;00m \u001b[38;5;28;01melse\u001b[39;00m \u001b[38;5;124m\"\u001b[39m\u001b[38;5;130;01m\\n\u001b[39;00m\u001b[38;5;130;01m\\n\u001b[39;00m\u001b[38;5;124mBad request:\u001b[39m\u001b[38;5;124m\"\u001b[39m\n\u001b[1;32m    328\u001b[0m     )\n\u001b[0;32m--> 329\u001b[0m     \u001b[38;5;28;01mraise\u001b[39;00m BadRequestError(message, response\u001b[38;5;241m=\u001b[39mresponse) \u001b[38;5;28;01mfrom\u001b[39;00m \u001b[38;5;21;01me\u001b[39;00m\n\u001b[1;32m    331\u001b[0m \u001b[38;5;66;03m# Convert `HTTPError` into a `HfHubHTTPError` to display request information\u001b[39;00m\n\u001b[1;32m    332\u001b[0m \u001b[38;5;66;03m# as well (request id and/or server error message)\u001b[39;00m\n\u001b[1;32m    333\u001b[0m \u001b[38;5;28;01mraise\u001b[39;00m HfHubHTTPError(\u001b[38;5;28mstr\u001b[39m(e), response\u001b[38;5;241m=\u001b[39mresponse) \u001b[38;5;28;01mfrom\u001b[39;00m \u001b[38;5;21;01me\u001b[39;00m\n",
      "\u001b[0;31mBadRequestError\u001b[0m:  (Request ID: Root=1-65a826ed-27b3927e615d5fcf3ea2c703;a2beb1e4-9413-4e78-bad5-19d1abd13f1e)\n\nBad request for commit endpoint:\nYour push was rejected because an LFS pointer pointed to a file that does not exist. For instance, this can happen if you used git push --no-verify to push your changes. Offending file: - training_data/all_videos_and_audios.tar.gz\nYour push was rejected because an LFS pointer pointed to a file that does not exist. For instance, this can happen if you used git push --no-verify to push your changes. Offending file:  - training_data/all_videos_and_audios.tar.gz"
     ]
    }
   ],
   "source": [
    "from huggingface_hub import HfApi\n",
    "\n",
    "api = HfApi()\n",
    "\n",
    "# api.upload_folder(\n",
    "#     folder_path=\"SemEval-2024_Task3\",\n",
    "#     repo_id=\"dim/SemEvalSubtask2\",\n",
    "#     repo_type=\"dataset\",\n",
    "#     ignore_patterns=[\"*.mp4\"],\n",
    "#     token=open(\"/code/hf_token\").read(),\n",
    "# )\n",
    "api.upload_file(\n",
    "    path_or_fileobj=\"SemEval-2024_Task3/training_data/all_videos_and_audios.tar.gz\",\n",
    "    path_in_repo=\"training_data/all_videos_and_audios.tar.gz\",\n",
    "    repo_id=\"dim/SemEvalSubtask2\",\n",
    "    repo_type=\"dataset\",\n",
    "    token=open(\"./hf_token\").read(),\n",
    ")"
   ]
  },
  {
   "cell_type": "markdown",
   "metadata": {},
   "source": [
    "### Explore Dataset"
   ]
  },
  {
   "cell_type": "code",
   "execution_count": 1,
   "metadata": {},
   "outputs": [
    {
     "name": "stderr",
     "output_type": "stream",
     "text": [
      "/opt/conda/lib/python3.10/site-packages/tqdm/auto.py:21: TqdmWarning: IProgress not found. Please update jupyter and ipywidgets. See https://ipywidgets.readthedocs.io/en/stable/user_install.html\n",
      "  from .autonotebook import tqdm as notebook_tqdm\n"
     ]
    }
   ],
   "source": [
    "from datasets import load_dataset\n",
    "from torchvision.io import read_video\n",
    "import json\n",
    "import torch\n",
    "import os"
   ]
  },
  {
   "cell_type": "code",
   "execution_count": 2,
   "metadata": {},
   "outputs": [],
   "source": [
    "dataset = json.loads(\n",
    "    open(\"./SemEval-2024_Task3/training_data/Subtask_2_train.json\").read()\n",
    ")\n",
    "# dataset = json.loads(open(\"SemEval-2024_Task3/trial_data/Subtask_2_trial.json\").read())"
   ]
  },
  {
   "cell_type": "code",
   "execution_count": 11,
   "metadata": {},
   "outputs": [
    {
     "data": {
      "text/plain": [
       "{'conversation_ID': 1,\n",
       " 'conversation': [{'utterance_ID': 1,\n",
       "   'text': 'Alright , so I am back in high school , I am standing in the middle of the cafeteria , and I realize I am totally naked .',\n",
       "   'speaker': 'Chandler',\n",
       "   'emotion': 'neutral',\n",
       "   'video_name': 'dia1utt1.mp4'},\n",
       "  {'utterance_ID': 2,\n",
       "   'text': 'Oh , yeah . Had that dream .',\n",
       "   'speaker': 'All',\n",
       "   'emotion': 'neutral',\n",
       "   'video_name': 'dia1utt2.mp4'},\n",
       "  {'utterance_ID': 3,\n",
       "   'text': 'Then I look down , and I realize there is a phone ... there .',\n",
       "   'speaker': 'Chandler',\n",
       "   'emotion': 'surprise',\n",
       "   'video_name': 'dia1utt3.mp4'},\n",
       "  {'utterance_ID': 4,\n",
       "   'text': 'Instead of ... ?',\n",
       "   'speaker': 'Joey',\n",
       "   'emotion': 'surprise',\n",
       "   'video_name': 'dia1utt4.mp4'},\n",
       "  {'utterance_ID': 5,\n",
       "   'text': 'That is right .',\n",
       "   'speaker': 'Chandler',\n",
       "   'emotion': 'anger',\n",
       "   'video_name': 'dia1utt5.mp4'},\n",
       "  {'utterance_ID': 6,\n",
       "   'text': 'Never had that dream .',\n",
       "   'speaker': 'Joey',\n",
       "   'emotion': 'neutral',\n",
       "   'video_name': 'dia1utt6.mp4'},\n",
       "  {'utterance_ID': 7,\n",
       "   'text': 'No .',\n",
       "   'speaker': 'Phoebe',\n",
       "   'emotion': 'neutral',\n",
       "   'video_name': 'dia1utt7.mp4'},\n",
       "  {'utterance_ID': 8,\n",
       "   'text': 'All of a sudden , the phone starts to ring .',\n",
       "   'speaker': 'Chandler',\n",
       "   'emotion': 'neutral',\n",
       "   'video_name': 'dia1utt8.mp4'}],\n",
       " 'emotion-cause_pairs': [['3_surprise', '1'],\n",
       "  ['3_surprise', '3'],\n",
       "  ['4_surprise', '1'],\n",
       "  ['4_surprise', '3'],\n",
       "  ['4_surprise', '4'],\n",
       "  ['5_anger', '1'],\n",
       "  ['5_anger', '3'],\n",
       "  ['5_anger', '4']]}"
      ]
     },
     "execution_count": 11,
     "metadata": {},
     "output_type": "execute_result"
    }
   ],
   "source": [
    "dataset[0]"
   ]
  },
  {
   "cell_type": "code",
   "execution_count": 6,
   "metadata": {},
   "outputs": [
    {
     "data": {
      "text/plain": [
       "{'conversation_ID': 2,\n",
       " 'conversation': [{'utterance_ID': 1,\n",
       "   'text': 'I do not want to be single , okay ? I just ... I just ... I just wanna be married again !',\n",
       "   'speaker': 'Ross',\n",
       "   'emotion': 'sadness',\n",
       "   'video_name': 'dia2utt1.mp4'},\n",
       "  {'utterance_ID': 2,\n",
       "   'text': 'And I just want a million dollars !',\n",
       "   'speaker': 'Chandler',\n",
       "   'emotion': 'neutral',\n",
       "   'video_name': 'dia2utt2.mp4'},\n",
       "  {'utterance_ID': 3,\n",
       "   'text': 'Rachel ? !',\n",
       "   'speaker': 'Monica',\n",
       "   'emotion': 'surprise',\n",
       "   'video_name': 'dia2utt3.mp4'}],\n",
       " 'emotion-cause_pairs': [['1_sadness', '1'], ['3_surprise', '3']]}"
      ]
     },
     "execution_count": 6,
     "metadata": {},
     "output_type": "execute_result"
    }
   ],
   "source": [
    "dataset[1]"
   ]
  },
  {
   "cell_type": "code",
   "execution_count": 7,
   "metadata": {},
   "outputs": [
    {
     "data": {
      "text/plain": [
       "{'conversation_ID': 3,\n",
       " 'conversation': [{'utterance_ID': 1,\n",
       "   'text': 'Oh my God !',\n",
       "   'speaker': 'Monica',\n",
       "   'emotion': 'surprise',\n",
       "   'video_name': 'dia3utt1.mp4'},\n",
       "  {'utterance_ID': 2,\n",
       "   'text': 'I know , I know , I am such an idiot .',\n",
       "   'speaker': 'Paul',\n",
       "   'emotion': 'neutral',\n",
       "   'video_name': 'dia3utt2.mp4'},\n",
       "  {'utterance_ID': 3,\n",
       "   'text': 'I guess I should have caught on when she started going to the dentist four and five times a week . I mean , how clean can teeth get ?',\n",
       "   'speaker': 'Paul',\n",
       "   'emotion': 'sadness',\n",
       "   'video_name': 'dia3utt3.mp4'},\n",
       "  {'utterance_ID': 4,\n",
       "   'text': 'My brother going through that right now , he is such a mess . How did you get through it ?',\n",
       "   'speaker': 'Monica',\n",
       "   'emotion': 'neutral',\n",
       "   'video_name': 'dia3utt4.mp4'},\n",
       "  {'utterance_ID': 5,\n",
       "   'text': 'Well , you might try accidentally breaking something valuable of hers , say her ...',\n",
       "   'speaker': 'Paul',\n",
       "   'emotion': 'neutral',\n",
       "   'video_name': 'dia3utt5.mp4'},\n",
       "  {'utterance_ID': 6,\n",
       "   'text': 'leg ?',\n",
       "   'speaker': 'Monica',\n",
       "   'emotion': 'surprise',\n",
       "   'video_name': 'dia3utt6.mp4'},\n",
       "  {'utterance_ID': 7,\n",
       "   'text': 'That is one way !',\n",
       "   'speaker': 'Paul',\n",
       "   'emotion': 'joy',\n",
       "   'video_name': 'dia3utt7.mp4'},\n",
       "  {'utterance_ID': 8,\n",
       "   'text': 'Me , I ... I went for the watch .',\n",
       "   'speaker': 'Paul',\n",
       "   'emotion': 'neutral',\n",
       "   'video_name': 'dia3utt8.mp4'},\n",
       "  {'utterance_ID': 9,\n",
       "   'text': 'You actually broke her watch ?',\n",
       "   'speaker': 'Monica',\n",
       "   'emotion': 'surprise',\n",
       "   'video_name': 'dia3utt9.mp4'}],\n",
       " 'emotion-cause_pairs': [['3_sadness', '3'],\n",
       "  ['6_surprise', '4'],\n",
       "  ['6_surprise', '5'],\n",
       "  ['6_surprise', '6'],\n",
       "  ['7_joy', '5'],\n",
       "  ['7_joy', '6'],\n",
       "  ['7_joy', '7'],\n",
       "  ['9_surprise', '5'],\n",
       "  ['9_surprise', '8'],\n",
       "  ['9_surprise', '9']]}"
      ]
     },
     "execution_count": 7,
     "metadata": {},
     "output_type": "execute_result"
    }
   ],
   "source": [
    "dataset[2]"
   ]
  },
  {
   "cell_type": "code",
   "execution_count": 5,
   "metadata": {},
   "outputs": [
    {
     "data": {
      "text/plain": [
       "{'conversation_ID': 4,\n",
       " 'conversation': [{'utterance_ID': 1,\n",
       "   'text': 'Barry , I am sorry ...',\n",
       "   'speaker': 'Rachel',\n",
       "   'emotion': 'sadness',\n",
       "   'video_name': 'dia4utt1.mp4'},\n",
       "  {'utterance_ID': 2,\n",
       "   'text': 'I am so sorry ...',\n",
       "   'speaker': 'Rachel',\n",
       "   'emotion': 'sadness',\n",
       "   'video_name': 'dia4utt2.mp4'},\n",
       "  {'utterance_ID': 3,\n",
       "   'text': 'I know you probably think that this is all about what I said the other day about you making love with your socks on , but it is not ... it is not , it is about me , and I ju ...',\n",
       "   'speaker': 'Rachel',\n",
       "   'emotion': 'sadness',\n",
       "   'video_name': 'dia4utt3.mp4'}],\n",
       " 'emotion-cause_pairs': []}"
      ]
     },
     "execution_count": 5,
     "metadata": {},
     "output_type": "execute_result"
    }
   ],
   "source": [
    "dataset[3]"
   ]
  },
  {
   "cell_type": "code",
   "execution_count": null,
   "metadata": {},
   "outputs": [],
   "source": []
  },
  {
   "cell_type": "code",
   "execution_count": 9,
   "metadata": {},
   "outputs": [
    {
     "data": {
      "text/plain": [
       "{'conversation_ID': 11,\n",
       " 'conversation': [{'utterance_ID': 1,\n",
       "   'text': 'I mean , why should I let them meet him ? I mean , I bring a guy home , and within five minutes they are all over him . I mean , they are like ... coyotes , picking off the weak members of the herd .',\n",
       "   'speaker': 'Monica',\n",
       "   'emotion': 'disgust',\n",
       "   'video_name': 'dia11utt1.mp4'},\n",
       "  {'utterance_ID': 2,\n",
       "   'text': 'Listen . As someone who seen more than her fair share of bad beef , I will tell you : that is not such a terrible thing .',\n",
       "   'speaker': 'Paula',\n",
       "   'emotion': 'neutral',\n",
       "   'video_name': 'dia11utt2.mp4'},\n",
       "  {'utterance_ID': 3,\n",
       "   'text': 'Come on , they are your friends , they are just looking out after you .',\n",
       "   'speaker': 'Paula',\n",
       "   'emotion': 'neutral',\n",
       "   'video_name': 'dia11utt3.mp4'},\n",
       "  {'utterance_ID': 4,\n",
       "   'text': 'I know . I just wish that once , I would bring a guy home that they actually liked .',\n",
       "   'speaker': 'Monica',\n",
       "   'emotion': 'sadness',\n",
       "   'video_name': 'dia11utt4.mp4'},\n",
       "  {'utterance_ID': 5,\n",
       "   'text': 'Well , you do realise the odds of that happening are a little slimmer if they never get to meet the guy ...',\n",
       "   'speaker': 'Paula',\n",
       "   'emotion': 'neutral',\n",
       "   'video_name': 'dia11utt5.mp4'}],\n",
       " 'emotion-cause_pairs': [['1_disgust', '1'], ['4_sadness', '4']]}"
      ]
     },
     "execution_count": 9,
     "metadata": {},
     "output_type": "execute_result"
    }
   ],
   "source": [
    "dataset[10]"
   ]
  },
  {
   "cell_type": "code",
   "execution_count": 10,
   "metadata": {},
   "outputs": [
    {
     "data": {
      "text/plain": [
       "{'conversation_ID': 130,\n",
       " 'conversation': [{'utterance_ID': 1,\n",
       "   'text': 'Four letters : \" Circle or hoop \" .',\n",
       "   'speaker': 'Ross',\n",
       "   'emotion': 'neutral',\n",
       "   'video_name': 'dia130utt1.mp4'},\n",
       "  {'utterance_ID': 2,\n",
       "   'text': 'Ring dammit , ring !',\n",
       "   'speaker': 'Chandler',\n",
       "   'emotion': 'anger',\n",
       "   'video_name': 'dia130utt2.mp4'},\n",
       "  {'utterance_ID': 3,\n",
       "   'text': 'Thanks .',\n",
       "   'speaker': 'Ross',\n",
       "   'emotion': 'neutral',\n",
       "   'video_name': 'dia130utt3.mp4'},\n",
       "  {'utterance_ID': 4,\n",
       "   'text': 'Hey , you know our phone not working ?',\n",
       "   'speaker': 'Joey',\n",
       "   'emotion': 'surprise',\n",
       "   'video_name': 'dia130utt4.mp4'},\n",
       "  {'utterance_ID': 5,\n",
       "   'text': 'What ? !',\n",
       "   'speaker': 'Chandler',\n",
       "   'emotion': 'surprise',\n",
       "   'video_name': 'dia130utt5.mp4'},\n",
       "  {'utterance_ID': 6,\n",
       "   'text': 'I tried to call you from the coffee shop , and there was no answer .',\n",
       "   'speaker': 'Joey',\n",
       "   'emotion': 'neutral',\n",
       "   'video_name': 'dia130utt6.mp4'},\n",
       "  {'utterance_ID': 7,\n",
       "   'text': 'I turned it off . Mother of God , I turned it off !',\n",
       "   'speaker': 'Chandler',\n",
       "   'emotion': 'anger',\n",
       "   'video_name': 'dia130utt7.mp4'},\n",
       "  {'utterance_ID': 8,\n",
       "   'text': 'Just like you told her you did ! ... Just pointing out the irony .',\n",
       "   'speaker': 'Monica',\n",
       "   'emotion': 'neutral',\n",
       "   'video_name': 'dia130utt8.mp4'},\n",
       "  {'utterance_ID': 9,\n",
       "   'text': 'Hey , so listen , I went across the street and talked to the doorman ... I got the peeper name ! Can I use the phone ?',\n",
       "   'speaker': 'Joey',\n",
       "   'emotion': 'anger',\n",
       "   'video_name': 'dia130utt9.mp4'},\n",
       "  {'utterance_ID': 10,\n",
       "   'text': 'Nngghhh ! ! ! ! ! ! !',\n",
       "   'speaker': 'Chandler',\n",
       "   'emotion': 'anger',\n",
       "   'video_name': 'dia130utt10.mp4'},\n",
       "  {'utterance_ID': 11,\n",
       "   'text': 'Can I use your phone ?',\n",
       "   'speaker': 'Joey',\n",
       "   'emotion': 'neutral',\n",
       "   'video_name': 'dia130utt11.mp4'},\n",
       "  {'utterance_ID': 12,\n",
       "   'text': 'Yeah , the number for a Sidney Marks , please .',\n",
       "   'speaker': 'Joey',\n",
       "   'emotion': 'neutral',\n",
       "   'video_name': 'dia130utt12.mp4'},\n",
       "  {'utterance_ID': 13,\n",
       "   'text': '\" Heating device . \"',\n",
       "   'speaker': 'Ross',\n",
       "   'emotion': 'neutral',\n",
       "   'video_name': 'dia130utt13.mp4'},\n",
       "  {'utterance_ID': 14,\n",
       "   'text': 'Radiator .',\n",
       "   'speaker': 'Phoebe',\n",
       "   'emotion': 'neutral',\n",
       "   'video_name': 'dia130utt14.mp4'},\n",
       "  {'utterance_ID': 15,\n",
       "   'text': 'Five letters .',\n",
       "   'speaker': 'Ross',\n",
       "   'emotion': 'neutral',\n",
       "   'video_name': 'dia130utt15.mp4'},\n",
       "  {'utterance_ID': 16,\n",
       "   'text': 'Rdtor .',\n",
       "   'speaker': 'Phoebe',\n",
       "   'emotion': 'neutral',\n",
       "   'video_name': 'dia130utt16.mp4'},\n",
       "  {'utterance_ID': 17,\n",
       "   'text': 'Yeah , is Sidney there ?',\n",
       "   'speaker': 'Joey',\n",
       "   'emotion': 'anger',\n",
       "   'video_name': 'dia130utt17.mp4'},\n",
       "  {'utterance_ID': 18,\n",
       "   'text': 'Oh , this is ?',\n",
       "   'speaker': 'Joey',\n",
       "   'emotion': 'surprise',\n",
       "   'video_name': 'dia130utt18.mp4'},\n",
       "  {'utterance_ID': 19,\n",
       "   'text': 'Sidney a woman .',\n",
       "   'speaker': 'Joey',\n",
       "   'emotion': 'surprise',\n",
       "   'video_name': 'dia130utt19.mp4'}],\n",
       " 'emotion-cause_pairs': [['2_anger', '2'],\n",
       "  ['4_surprise', '4'],\n",
       "  ['5_surprise', '4'],\n",
       "  ['7_anger', '4'],\n",
       "  ['7_anger', '7'],\n",
       "  ['9_anger', '9'],\n",
       "  ['10_anger', '9'],\n",
       "  ['17_anger', '9'],\n",
       "  ['18_surprise', '17'],\n",
       "  ['18_surprise', '18'],\n",
       "  ['18_surprise', '19'],\n",
       "  ['19_surprise', '19']]}"
      ]
     },
     "execution_count": 10,
     "metadata": {},
     "output_type": "execute_result"
    }
   ],
   "source": [
    "dataset[100]"
   ]
  }
 ],
 "metadata": {
  "kernelspec": {
   "display_name": "base",
   "language": "python",
   "name": "python3"
  },
  "language_info": {
   "codemirror_mode": {
    "name": "ipython",
    "version": 3
   },
   "file_extension": ".py",
   "mimetype": "text/x-python",
   "name": "python",
   "nbconvert_exporter": "python",
   "pygments_lexer": "ipython3",
   "version": "3.10.13"
  }
 },
 "nbformat": 4,
 "nbformat_minor": 2
}
