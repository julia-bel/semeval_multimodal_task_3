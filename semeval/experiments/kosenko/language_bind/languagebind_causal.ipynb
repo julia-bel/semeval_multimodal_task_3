{
 "cells": [
  {
   "cell_type": "code",
   "execution_count": 1,
   "metadata": {},
   "outputs": [
    {
     "name": "stderr",
     "output_type": "stream",
     "text": [
      "/opt/conda/lib/python3.10/site-packages/tqdm/auto.py:21: TqdmWarning: IProgress not found. Please update jupyter and ipywidgets. See https://ipywidgets.readthedocs.io/en/stable/user_install.html\n",
      "  from .autonotebook import tqdm as notebook_tqdm\n",
      "Downloading readme: 100%|██████████| 893/893 [00:00<00:00, 6.13MB/s]\n",
      "Downloading data: 100%|██████████| 528k/528k [00:00<00:00, 869kB/s]\n",
      "Downloading data: 100%|██████████| 57.5k/57.5k [00:00<00:00, 168kB/s]\n",
      "Downloading data files: 100%|██████████| 2/2 [00:00<00:00,  2.07it/s]\n",
      "Extracting data files: 100%|██████████| 2/2 [00:00<00:00, 1260.12it/s]\n",
      "Generating train split: 100%|██████████| 1264/1264 [00:00<00:00, 122673.95 examples/s]\n",
      "Generating test split: 100%|██████████| 110/110 [00:00<00:00, 39389.86 examples/s]\n"
     ]
    },
    {
     "data": {
      "text/plain": [
       "DatasetDict({\n",
       "    train: Dataset({\n",
       "        features: ['conversation_ID', 'conversation', 'emotion-cause_pairs'],\n",
       "        num_rows: 1264\n",
       "    })\n",
       "    test: Dataset({\n",
       "        features: ['conversation_ID', 'conversation', 'emotion-cause_pairs'],\n",
       "        num_rows: 110\n",
       "    })\n",
       "})"
      ]
     },
     "execution_count": 1,
     "metadata": {},
     "output_type": "execute_result"
    }
   ],
   "source": [
    "from datasets import load_dataset\n",
    "\n",
    "dataset = load_dataset(\"dim/semeval_subtask2_conversations\")\n",
    "dataset"
   ]
  },
  {
   "cell_type": "code",
   "execution_count": 8,
   "metadata": {},
   "outputs": [
    {
     "data": {
      "text/plain": [
       "{'conversation_ID': 1159,\n",
       " 'conversation': [{'emotion': 'neutral',\n",
       "   'speaker': 'Ross',\n",
       "   'text': 'Hi .',\n",
       "   'utterance_ID': 1,\n",
       "   'video_name': 'dia1159utt1.mp4'},\n",
       "  {'emotion': 'surprise',\n",
       "   'speaker': 'Chandler',\n",
       "   'text': 'Hey . Soaps ? Shampoos ? Are you really taking all this stuff ?',\n",
       "   'utterance_ID': 2,\n",
       "   'video_name': 'dia1159utt2.mp4'},\n",
       "  {'emotion': 'neutral',\n",
       "   'speaker': 'Ross',\n",
       "   'text': 'Why not ? It is built into the price of the room .',\n",
       "   'utterance_ID': 3,\n",
       "   'video_name': 'dia1159utt3.mp4'},\n",
       "  {'emotion': 'surprise',\n",
       "   'speaker': 'Chandler',\n",
       "   'text': 'Yeah but you do not need ... What is this ?',\n",
       "   'utterance_ID': 4,\n",
       "   'video_name': 'dia1159utt4.mp4'},\n",
       "  {'emotion': 'neutral',\n",
       "   'speaker': 'Ross',\n",
       "   'text': 'Thread !',\n",
       "   'utterance_ID': 5,\n",
       "   'video_name': 'dia1159utt5.mp4'},\n",
       "  {'emotion': 'joy',\n",
       "   'speaker': 'Chandler',\n",
       "   'text': 'Score ! Where are the disposable cameras ?',\n",
       "   'utterance_ID': 6,\n",
       "   'video_name': 'dia1159utt6.mp4'},\n",
       "  {'emotion': 'neutral',\n",
       "   'speaker': 'Ross',\n",
       "   'text': 'What disposable cameras ?',\n",
       "   'utterance_ID': 7,\n",
       "   'video_name': 'dia1159utt7.mp4'},\n",
       "  {'emotion': 'surprise',\n",
       "   'speaker': 'Chandler',\n",
       "   'text': 'The cameras ? Remember last night I told you to take them ?',\n",
       "   'utterance_ID': 8,\n",
       "   'video_name': 'dia1159utt8.mp4'},\n",
       "  {'emotion': 'neutral',\n",
       "   'speaker': 'Ross',\n",
       "   'text': 'No you did not .',\n",
       "   'utterance_ID': 9,\n",
       "   'video_name': 'dia1159utt9.mp4'},\n",
       "  {'emotion': 'surprise',\n",
       "   'speaker': 'Chandler',\n",
       "   'text': 'Yes ! Remember ? Right before we cut the cake , I went up to you and I said',\n",
       "   'utterance_ID': 10,\n",
       "   'video_name': 'dia1159utt10.mp4'},\n",
       "  {'emotion': 'neutral',\n",
       "   'speaker': 'Ross',\n",
       "   'text': 'Oh ... oh yeah , you ... you came up to me and asked if I could do you a favor , and my Uncle Murray came up to you and handed you a check .',\n",
       "   'utterance_ID': 11,\n",
       "   'video_name': 'dia1159utt11.mp4'},\n",
       "  {'emotion': 'neutral',\n",
       "   'speaker': 'Ross',\n",
       "   'text': 'And then you said , \" Why do they call it a check ?',\n",
       "   'utterance_ID': 12,\n",
       "   'video_name': 'dia1159utt12.mp4'},\n",
       "  {'emotion': 'neutral',\n",
       "   'speaker': 'Ross',\n",
       "   'text': 'Why not a Yugoslavian ? \"',\n",
       "   'utterance_ID': 13,\n",
       "   'video_name': 'dia1159utt13.mp4'},\n",
       "  {'emotion': 'neutral',\n",
       "   'speaker': 'Ross',\n",
       "   'text': 'Yeah , then you did that .',\n",
       "   'utterance_ID': 14,\n",
       "   'video_name': 'dia1159utt14.mp4'},\n",
       "  {'emotion': 'surprise',\n",
       "   'speaker': 'Chandler',\n",
       "   'text': 'So you do not have the cameras ? !',\n",
       "   'utterance_ID': 15,\n",
       "   'video_name': 'dia1159utt15.mp4'},\n",
       "  {'emotion': 'sadness',\n",
       "   'speaker': 'Ross',\n",
       "   'text': 'No . Sorry man .',\n",
       "   'utterance_ID': 16,\n",
       "   'video_name': 'dia1159utt16.mp4'},\n",
       "  {'emotion': 'surprise',\n",
       "   'speaker': 'Chandler',\n",
       "   'text': 'So ? What ? What ? They are gone ! Monica gonna freak !',\n",
       "   'utterance_ID': 17,\n",
       "   'video_name': 'dia1159utt17.mp4'},\n",
       "  {'emotion': 'neutral',\n",
       "   'speaker': 'Ross',\n",
       "   'text': 'Well , I am sure they are still somewhere here in the hotel . I will ... I will help you look for them .',\n",
       "   'utterance_ID': 18,\n",
       "   'video_name': 'dia1159utt18.mp4'},\n",
       "  {'emotion': 'joy',\n",
       "   'speaker': 'Chandler',\n",
       "   'text': 'Great .',\n",
       "   'utterance_ID': 19,\n",
       "   'video_name': 'dia1159utt19.mp4'},\n",
       "  {'emotion': 'neutral',\n",
       "   'speaker': 'Ross',\n",
       "   'text': 'In ... in three minutes .',\n",
       "   'utterance_ID': 20,\n",
       "   'video_name': 'dia1159utt20.mp4'}],\n",
       " 'emotion-cause_pairs': [['2_surprise', '2'],\n",
       "  ['4_surprise', '4'],\n",
       "  ['6_joy', '6'],\n",
       "  ['8_surprise', '6'],\n",
       "  ['8_surprise', '7'],\n",
       "  ['10_surprise', '8'],\n",
       "  ['10_surprise', '9'],\n",
       "  ['15_surprise', '15'],\n",
       "  ['16_sadness', '15'],\n",
       "  ['16_sadness', '16'],\n",
       "  ['17_surprise', '15'],\n",
       "  ['17_surprise', '16'],\n",
       "  ['17_surprise', '17'],\n",
       "  ['19_joy', '18']]}"
      ]
     },
     "execution_count": 8,
     "metadata": {},
     "output_type": "execute_result"
    }
   ],
   "source": [
    "dataset[\"train\"][9]"
   ]
  },
  {
   "cell_type": "code",
   "execution_count": 12,
   "metadata": {},
   "outputs": [
    {
     "data": {
      "text/plain": [
       "True"
      ]
     },
     "execution_count": 12,
     "metadata": {},
     "output_type": "execute_result"
    }
   ],
   "source": [
    "(1, 2) in set([(1, 2)])"
   ]
  },
  {
   "cell_type": "code",
   "execution_count": 20,
   "metadata": {},
   "outputs": [],
   "source": [
    "# new_dataset = []\n",
    "\n",
    "# for i, conversation in enumerate(dataset[\"train\"]):\n",
    "#     cause_pairs = conversation[\"emotion-cause_pairs\"]\n",
    "#     future_cause = False\n",
    "#     for cause_pair in cause_pairs:\n",
    "#         initial_emotion = int(cause_pair[0].split(\"_\")[0]) - 1\n",
    "#         cause_emotion = int(cause_pair[1]) - 1\n",
    "#         if cause_emotion > initial_emotion:\n",
    "#             future_cause = True\n",
    "#             print(initial_emotion, cause_emotion)\n",
    "\n",
    "#     if future_cause:\n",
    "#         print(i, cause_pairs)\n",
    "\n",
    "#         print(\"==\" * 10)\n",
    "#         print(\"==\" * 10)"
   ]
  },
  {
   "cell_type": "code",
   "execution_count": 26,
   "metadata": {},
   "outputs": [
    {
     "data": {
      "text/plain": [
       "(26821, 2542)"
      ]
     },
     "execution_count": 26,
     "metadata": {},
     "output_type": "execute_result"
    }
   ],
   "source": [
    "import random\n",
    "\n",
    "random.seed(42)\n",
    "def generate_dataset(dataset):\n",
    "    new_dataset = []\n",
    "    for i, conversation in enumerate(dataset):\n",
    "        cause_pairs = conversation[\"emotion-cause_pairs\"]\n",
    "        # print(i, cause_pairs)\n",
    "        positive_pairs = []\n",
    "        for cause_pair in cause_pairs:\n",
    "            positive_example = {\"initial\": {}, \"cause\": {}, \"label\": 1}\n",
    "            initial_emotion_pos = int(cause_pair[0].split(\"_\")[0]) - 1\n",
    "            initial_emotion = conversation[\"conversation\"][initial_emotion_pos]\n",
    "            cause_emotion_pos = int(cause_pair[1]) - 1\n",
    "            cause_emotion = conversation[\"conversation\"][cause_emotion_pos]\n",
    "            positive_example[\"initial\"] = initial_emotion\n",
    "            positive_example[\"cause\"] = cause_emotion\n",
    "\n",
    "            positive_pairs.append((initial_emotion_pos, cause_emotion_pos))\n",
    "            new_dataset.append(positive_example)\n",
    "\n",
    "        new_dataset.extend(positive_pairs)\n",
    "        positive_pairs = set(positive_pairs)\n",
    "        negative_pairs = []\n",
    "        for pos_i in range(len(conversation[\"conversation\"])):\n",
    "            for pos_j in range(len(conversation[\"conversation\"])):\n",
    "                pair = (pos_i, pos_j)\n",
    "                if not pair in positive_pairs:\n",
    "                    negative_pairs.append(pair)\n",
    "        # print(len(negative_pairs), positive_pairs)\n",
    "        \n",
    "        if len(negative_pairs) > len(positive_pairs):\n",
    "            negative_pairs = random.sample(negative_pairs, len(positive_pairs))\n",
    "        # print(\"==\" * 10)\n",
    "        # print(\"==\" * 10)\n",
    "        new_dataset.extend(negative_pairs)\n",
    "    \n",
    "    return new_dataset\n",
    "\n",
    "train_dataset = generate_dataset(dataset=dataset['train'])\n",
    "test_dataset = generate_dataset(dataset=dataset['test'])\n",
    "\n",
    "len(train_dataset), len(test_dataset)"
   ]
  },
  {
   "cell_type": "code",
   "execution_count": 27,
   "metadata": {},
   "outputs": [
    {
     "data": {
      "text/plain": [
       "{'initial': {'emotion': 'sadness',\n",
       "  'speaker': 'Monica',\n",
       "  'text': 'Mr . Heckles .',\n",
       "  'utterance_ID': 1,\n",
       "  'video_name': 'dia187utt1.mp4'},\n",
       " 'cause': {'emotion': 'sadness',\n",
       "  'speaker': 'Monica',\n",
       "  'text': 'Mr . Heckles .',\n",
       "  'utterance_ID': 1,\n",
       "  'video_name': 'dia187utt1.mp4'},\n",
       " 'label': 1}"
      ]
     },
     "execution_count": 27,
     "metadata": {},
     "output_type": "execute_result"
    }
   ],
   "source": [
    "train_dataset[0]"
   ]
  }
 ],
 "metadata": {
  "kernelspec": {
   "display_name": "base",
   "language": "python",
   "name": "python3"
  },
  "language_info": {
   "codemirror_mode": {
    "name": "ipython",
    "version": 3
   },
   "file_extension": ".py",
   "mimetype": "text/x-python",
   "name": "python",
   "nbconvert_exporter": "python",
   "pygments_lexer": "ipython3",
   "version": "3.10.13"
  }
 },
 "nbformat": 4,
 "nbformat_minor": 2
}
