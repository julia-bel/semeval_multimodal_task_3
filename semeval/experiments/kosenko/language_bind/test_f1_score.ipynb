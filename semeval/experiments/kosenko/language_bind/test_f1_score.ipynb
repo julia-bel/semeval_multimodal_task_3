{
 "cells": [
  {
   "cell_type": "code",
   "execution_count": 15,
   "metadata": {},
   "outputs": [
    {
     "data": {
      "text/plain": [
       "0.8222222222222222"
      ]
     },
     "execution_count": 15,
     "metadata": {},
     "output_type": "execute_result"
    }
   ],
   "source": [
    "from sklearn.metrics import f1_score\n",
    "\n",
    "true_label = [1, 2, 5, 4, 7, 4, 4, 1, 6, 7, 7, 3, 0, 6, 0, 34, 5, 234, 4, 4]\n",
    "predict_label = [1, 2, 5, 4, 7, 4, 4, 1, 6, 7, 7, 3, 0, 6, 0, 34, 5, 2, 3, 4]\n",
    "\n",
    "f1_score_result = f1_score(\n",
    "    true_label,\n",
    "    predict_label,\n",
    "    average=\"macro\",\n",
    ")\n",
    "f1_score_result"
   ]
  },
  {
   "cell_type": "code",
   "execution_count": 16,
   "metadata": {},
   "outputs": [
    {
     "data": {
      "text/plain": [
       "tensor(0.8222)"
      ]
     },
     "execution_count": 16,
     "metadata": {},
     "output_type": "execute_result"
    }
   ],
   "source": [
    "import torchmetrics\n",
    "import torch\n",
    "\n",
    "f1_score_torch = torchmetrics.F1Score(\n",
    "    task=\"multiclass\",\n",
    "    num_classes=1 + torch.tensor(true_label).max().item(),\n",
    "    average=\"macro\",\n",
    ")\n",
    "\n",
    "f1_score_torch(\n",
    "    torch.tensor(predict_label),\n",
    "    torch.tensor(true_label),\n",
    ")"
   ]
  }
 ],
 "metadata": {
  "kernelspec": {
   "display_name": "base",
   "language": "python",
   "name": "python3"
  },
  "language_info": {
   "codemirror_mode": {
    "name": "ipython",
    "version": 3
   },
   "file_extension": ".py",
   "mimetype": "text/x-python",
   "name": "python",
   "nbconvert_exporter": "python",
   "pygments_lexer": "ipython3",
   "version": "3.10.13"
  }
 },
 "nbformat": 4,
 "nbformat_minor": 2
}
