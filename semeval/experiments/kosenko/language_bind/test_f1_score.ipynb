{
 "cells": [
  {
   "cell_type": "code",
   "execution_count": 15,
   "metadata": {},
   "outputs": [
    {
     "data": {
      "text/plain": [
       "0.8222222222222222"
      ]
     },
     "execution_count": 15,
     "metadata": {},
     "output_type": "execute_result"
    }
   ],
   "source": [
    "from sklearn.metrics import f1_score\n",
    "\n",
    "true_label = [1, 2, 5, 4, 7, 4, 4, 1, 6, 7, 7, 3, 0, 6, 0, 34, 5, 234, 4, 4]\n",
    "predict_label = [1, 2, 5, 4, 7, 4, 4, 1, 6, 7, 7, 3, 0, 6, 0, 34, 5, 2, 3, 4]\n",
    "\n",
    "f1_score_result = f1_score(\n",
    "    true_label,\n",
    "    predict_label,\n",
    "    average=\"macro\",\n",
    ")\n",
    "f1_score_result"
   ]
  },
  {
   "cell_type": "code",
   "execution_count": 16,
   "metadata": {},
   "outputs": [
    {
     "data": {
      "text/plain": [
       "tensor(0.8222)"
      ]
     },
     "execution_count": 16,
     "metadata": {},
     "output_type": "execute_result"
    }
   ],
   "source": [
    "import torchmetrics\n",
    "import torch\n",
    "\n",
    "f1_score_torch = torchmetrics.F1Score(\n",
    "    task=\"multiclass\",\n",
    "    num_classes=1 + torch.tensor(true_label).max().item(),\n",
    "    average=\"macro\",\n",
    ")\n",
    "\n",
    "f1_score_torch(\n",
    "    torch.tensor(predict_label),\n",
    "    torch.tensor(true_label),\n",
    ")"
   ]
  },
  {
   "cell_type": "code",
   "execution_count": 1,
   "metadata": {},
   "outputs": [
    {
     "data": {
      "text/plain": [
       "'*'"
      ]
     },
     "execution_count": 1,
     "metadata": {},
     "output_type": "execute_result"
    }
   ],
   "source": [
    "chr(42)"
   ]
  },
  {
   "cell_type": "code",
   "execution_count": 123,
   "metadata": {},
   "outputs": [
    {
     "name": "stdout",
     "output_type": "stream",
     "text": [
      "import base64\n",
      "\n",
      "help_source = \"\"\"import base64\n",
      "\n",
      "dna = \"aW1wb3J0IGJhc2U2NAoKaGVscF9zb3VyY2UgPSAiIiJpbXBvcnQgYmFzZTY0CgpkbmEgPSAiKiIKcmVzdWx0ID0gYmFzZTY0LmI2NGRlY29kZShkbmEpLmRlY29kZSgidXRmLTgiKQpyZXN1bHQgPSByZXN1bHQucmVwbGFjZSgiKiIsIGRuYSwgMikKcHJpbnQocmVzdWx0KQoiIiIuZW5jb2RlKAogICAgInV0Zi04IgopCmVuY29kZWRfZG5hID0gYmFzZTY0LmI2NGVuY29kZShoZWxwX3NvdXJjZSkuZGVjb2RlKCJ1dGYtOCIpCgpkbmEgPSBlbmNvZGVkX2RuYQpyZXN1bHQgPSBiYXNlNjQuYjY0ZGVjb2RlKGRuYSkuZGVjb2RlKCJ1dGYtOCIpCnJlc3VsdCA9IHJlc3VsdC5yZXBsYWNlKCIqIiwgZG5hLCAxKQpwcmludChyZXN1bHQpCgo=\"\n",
      "result = base64.b64decode(dna).decode(\"utf-8\")\n",
      "result = result.replace(\"*\", dna, 2)\n",
      "print(result)\n",
      "\"\"\".encode(\n",
      "    \"utf-8\"\n",
      ")\n",
      "encoded_dna = base64.b64encode(help_source).decode(\"utf-8\")\n",
      "\n",
      "dna = encoded_dna\n",
      "result = base64.b64decode(dna).decode(\"utf-8\")\n",
      "result = result.replace(\"*\", dna, 1)\n",
      "print(result)\n",
      "\n",
      "\n"
     ]
    }
   ],
   "source": [
    "import base64\n",
    "\n",
    "help_source = \"\"\"import base64\n",
    "\n",
    "help_source = \\\"\\\"\\\"import base64\n",
    "\n",
    "dna = \"*\"\n",
    "result = base64.b64decode(dna).decode(\"utf-8\")\n",
    "result = result.replace(\"*\", dna, 2)\n",
    "print(result)\n",
    "\\\"\\\"\\\".encode(\n",
    "    \"utf-8\"\n",
    ")\n",
    "encoded_dna = base64.b64encode(help_source).decode(\"utf-8\")\n",
    "\n",
    "dna = encoded_dna\n",
    "result = base64.b64decode(dna).decode(\"utf-8\")\n",
    "result = result.replace(\"*\", dna, 1)\n",
    "print(result)\n",
    "\n",
    "\"\"\".encode(\n",
    "    \"utf-8\"\n",
    ")\n",
    "encoded_dna = base64.b64encode(help_source).decode(\"utf-8\")\n",
    "\n",
    "\n",
    "dna = encoded_dna\n",
    "result = base64.b64decode(dna).decode(\"utf-8\")\n",
    "result = result.replace(chr(42), dna, 1)\n",
    "print(result)"
   ]
  },
  {
   "cell_type": "code",
   "execution_count": 124,
   "metadata": {},
   "outputs": [
    {
     "name": "stdout",
     "output_type": "stream",
     "text": [
      "import base64\n",
      "\n",
      "dna = \"aW1wb3J0IGJhc2U2NAoKaGVscF9zb3VyY2UgPSAiIiJpbXBvcnQgYmFzZTY0CgpkbmEgPSAiKiIKcmVzdWx0ID0gYmFzZTY0LmI2NGRlY29kZShkbmEpLmRlY29kZSgidXRmLTgiKQpyZXN1bHQgPSByZXN1bHQucmVwbGFjZSgiKiIsIGRuYSwgMikKcHJpbnQocmVzdWx0KQoiIiIuZW5jb2RlKAogICAgInV0Zi04IgopCmVuY29kZWRfZG5hID0gYmFzZTY0LmI2NGVuY29kZShoZWxwX3NvdXJjZSkuZGVjb2RlKCJ1dGYtOCIpCgpkbmEgPSBlbmNvZGVkX2RuYQpyZXN1bHQgPSBiYXNlNjQuYjY0ZGVjb2RlKGRuYSkuZGVjb2RlKCJ1dGYtOCIpCnJlc3VsdCA9IHJlc3VsdC5yZXBsYWNlKCIqIiwgZG5hLCAxKQpwcmludChyZXN1bHQpCgo=\"\n",
      "result = base64.b64decode(dna).decode(\"utf-8\")\n",
      "result = result.replace(\"aW1wb3J0IGJhc2U2NAoKZG5hID0gImFXMXdiM0owSUdKaGMyVTJOQW9LYUdWc2NGOXpiM1Z5WTJVZ1BTQWlJaUpwYlhCdmNuUWdZbUZ6WlRZMENncGtibUVnUFNBaUtpSUtjbVZ6ZFd4MElEMGdZbUZ6WlRZMExtSTJOR1JsWTI5a1pTaGtibUVwTG1SbFkyOWtaU2dpZFhSbUxUZ2lLUXB5WlhOMWJIUWdQU0J5WlhOMWJIUXVjbVZ3YkdGalpTZ2lLaUlzSUdSdVlTd2dNaWtLY0hKcGJuUW9jbVZ6ZFd4MEtRb2lJaUl1Wlc1amIyUmxLQW9nSUNBZ0luVjBaaTA0SWdvcENtVnVZMjlrWldSZlpHNWhJRDBnWW1GelpUWTBMbUkyTkdWdVkyOWtaU2hvWld4d1gzTnZkWEpqWlNrdVpHVmpiMlJsS0NKMWRHWXRPQ0lwQ2dwa2JtRWdQU0JsYm1OdlpHVmtYMlJ1WVFweVpYTjFiSFFnUFNCaVlYTmxOalF1WWpZMFpHVmpiMlJsS0dSdVlTa3VaR1ZqYjJSbEtDSjFkR1l0T0NJcENuSmxjM1ZzZENBOUlISmxjM1ZzZEM1eVpYQnNZV05sS0NJcUlpd2daRzVoTENBeEtRcHdjbWx1ZENoeVpYTjFiSFFwQ2dvPSIKcmVzdWx0ID0gYmFzZTY0LmI2NGRlY29kZShkbmEpLmRlY29kZSgidXRmLTgiKQpyZXN1bHQgPSByZXN1bHQucmVwbGFjZSgiKiIsIGRuYSwgMikKcHJpbnQocmVzdWx0KQo=\", dna, 2)\n",
      "print(result)\n",
      "\n"
     ]
    }
   ],
   "source": [
    "import base64\n",
    "\n",
    "help_source = \"\"\"import base64\n",
    "\n",
    "dna = \"aW1wb3J0IGJhc2U2NAoKaGVscF9zb3VyY2UgPSAiIiJpbXBvcnQgYmFzZTY0CgpkbmEgPSAiKiIKcmVzdWx0ID0gYmFzZTY0LmI2NGRlY29kZShkbmEpLmRlY29kZSgidXRmLTgiKQpyZXN1bHQgPSByZXN1bHQucmVwbGFjZSgiKiIsIGRuYSwgMikKcHJpbnQocmVzdWx0KQoiIiIuZW5jb2RlKAogICAgInV0Zi04IgopCmVuY29kZWRfZG5hID0gYmFzZTY0LmI2NGVuY29kZShoZWxwX3NvdXJjZSkuZGVjb2RlKCJ1dGYtOCIpCgpkbmEgPSBlbmNvZGVkX2RuYQpyZXN1bHQgPSBiYXNlNjQuYjY0ZGVjb2RlKGRuYSkuZGVjb2RlKCJ1dGYtOCIpCnJlc3VsdCA9IHJlc3VsdC5yZXBsYWNlKCIqIiwgZG5hLCAxKQpwcmludChyZXN1bHQpCgo=\"\n",
    "result = base64.b64decode(dna).decode(\"utf-8\")\n",
    "result = result.replace(\"*\", dna, 2)\n",
    "print(result)\n",
    "\"\"\".encode(\n",
    "    \"utf-8\"\n",
    ")\n",
    "encoded_dna = base64.b64encode(help_source).decode(\"utf-8\")\n",
    "\n",
    "dna = encoded_dna\n",
    "result = base64.b64decode(dna).decode(\"utf-8\")\n",
    "result = result.replace(\"*\", dna, 1)\n",
    "print(result)"
   ]
  },
  {
   "cell_type": "code",
   "execution_count": 125,
   "metadata": {},
   "outputs": [
    {
     "name": "stdout",
     "output_type": "stream",
     "text": [
      "import base64\n",
      "\n",
      "help_source = \"\"\"import base64\n",
      "\n",
      "dna = \"*\"\n",
      "result = base64.b64decode(dna).decode(\"utf-8\")\n",
      "result = result.replace(\"*\", dna, 2)\n",
      "print(result)\n",
      "\"\"\".encode(\n",
      "    \"utf-8\"\n",
      ")\n",
      "encoded_dna = base64.b64encode(help_source).decode(\"utf-8\")\n",
      "\n",
      "dna = encoded_dna\n",
      "result = base64.b64decode(dna).decode(\"utf-8\")\n",
      "result = result.replace(\"*\", dna, 1)\n",
      "print(result)\n",
      "\n",
      "\n"
     ]
    }
   ],
   "source": [
    "import base64\n",
    "\n",
    "dna = \"aW1wb3J0IGJhc2U2NAoKaGVscF9zb3VyY2UgPSAiIiJpbXBvcnQgYmFzZTY0CgpkbmEgPSAiKiIKcmVzdWx0ID0gYmFzZTY0LmI2NGRlY29kZShkbmEpLmRlY29kZSgidXRmLTgiKQpyZXN1bHQgPSByZXN1bHQucmVwbGFjZSgiKiIsIGRuYSwgMikKcHJpbnQocmVzdWx0KQoiIiIuZW5jb2RlKAogICAgInV0Zi04IgopCmVuY29kZWRfZG5hID0gYmFzZTY0LmI2NGVuY29kZShoZWxwX3NvdXJjZSkuZGVjb2RlKCJ1dGYtOCIpCgpkbmEgPSBlbmNvZGVkX2RuYQpyZXN1bHQgPSBiYXNlNjQuYjY0ZGVjb2RlKGRuYSkuZGVjb2RlKCJ1dGYtOCIpCnJlc3VsdCA9IHJlc3VsdC5yZXBsYWNlKCIqIiwgZG5hLCAxKQpwcmludChyZXN1bHQpCgo=\"\n",
    "result = base64.b64decode(dna).decode(\"utf-8\")\n",
    "result = result.replace(\n",
    "    \"aW1wb3J0IGJhc2U2NAoKZG5hID0gImFXMXdiM0owSUdKaGMyVTJOQW9LYUdWc2NGOXpiM1Z5WTJVZ1BTQWlJaUpwYlhCdmNuUWdZbUZ6WlRZMENncGtibUVnUFNBaUtpSUtjbVZ6ZFd4MElEMGdZbUZ6WlRZMExtSTJOR1JsWTI5a1pTaGtibUVwTG1SbFkyOWtaU2dpZFhSbUxUZ2lLUXB5WlhOMWJIUWdQU0J5WlhOMWJIUXVjbVZ3YkdGalpTZ2lLaUlzSUdSdVlTd2dNaWtLY0hKcGJuUW9jbVZ6ZFd4MEtRb2lJaUl1Wlc1amIyUmxLQW9nSUNBZ0luVjBaaTA0SWdvcENtVnVZMjlrWldSZlpHNWhJRDBnWW1GelpUWTBMbUkyTkdWdVkyOWtaU2hvWld4d1gzTnZkWEpqWlNrdVpHVmpiMlJsS0NKMWRHWXRPQ0lwQ2dwa2JtRWdQU0JsYm1OdlpHVmtYMlJ1WVFweVpYTjFiSFFnUFNCaVlYTmxOalF1WWpZMFpHVmpiMlJsS0dSdVlTa3VaR1ZqYjJSbEtDSjFkR1l0T0NJcENuSmxjM1ZzZENBOUlISmxjM1ZzZEM1eVpYQnNZV05sS0NJcUlpd2daRzVoTENBeEtRcHdjbWx1ZENoeVpYTjFiSFFwQ2dvPSIKcmVzdWx0ID0gYmFzZTY0LmI2NGRlY29kZShkbmEpLmRlY29kZSgidXRmLTgiKQpyZXN1bHQgPSByZXN1bHQucmVwbGFjZSgiKiIsIGRuYSwgMikKcHJpbnQocmVzdWx0KQo=\",\n",
    "    dna,\n",
    "    2,\n",
    ")\n",
    "print(result)"
   ]
  },
  {
   "cell_type": "code",
   "execution_count": 68,
   "metadata": {},
   "outputs": [
    {
     "name": "stdout",
     "output_type": "stream",
     "text": [
      "import base64\n",
      "\n",
      "dna = \"aW1wb3J0IGJhc2U2NAoKZG5hID0gIioiCnJlc3VsdCA9IGJhc2U2NC5iNjRkZWNvZGUoZG5hKS5kZWNvZGUoInV0Zi04IikKcmVzdWx0ID0gcmVzdWx0LnJlcGxhY2UoIioiLCBkbmEsIDEpCnByaW50KHJlc3VsdCkK\"\n",
      "result = base64.b64decode(dna).decode(\"utf-8\")\n",
      "result = result.replace(\"*\", dna, 1)\n",
      "print(result)\n",
      "\n"
     ]
    }
   ],
   "source": [
    "import base64\n",
    "\n",
    "help_source = \"\"\"import base64\n",
    "\n",
    "dna = \"*\"\n",
    "result = base64.b64decode(dna).decode(\"utf-8\")\n",
    "result = result.replace(\"*\", dna, 1)\n",
    "print(result)\n",
    "\"\"\".encode(\n",
    "    \"utf-8\"\n",
    ")\n",
    "encoded_dna = base64.b64encode(help_source).decode(\"utf-8\")\n",
    "\n",
    "dna = encoded_dna\n",
    "result = base64.b64decode(dna).decode(\"utf-8\")\n",
    "result = result.replace(\"*\", dna, 1)\n",
    "print(result)"
   ]
  },
  {
   "cell_type": "code",
   "execution_count": 69,
   "metadata": {},
   "outputs": [
    {
     "name": "stdout",
     "output_type": "stream",
     "text": [
      "import base64\n",
      "\n",
      "dna = \"aW1wb3J0IGJhc2U2NAoKZG5hID0gIioiCnJlc3VsdCA9IGJhc2U2NC5iNjRkZWNvZGUoZG5hKS5kZWNvZGUoInV0Zi04IikKcmVzdWx0ID0gcmVzdWx0LnJlcGxhY2UoIioiLCBkbmEsIDEpCnByaW50KHJlc3VsdCkK\"\n",
      "result = base64.b64decode(dna).decode(\"utf-8\")\n",
      "result = result.replace(\"*\", dna, 1)\n",
      "print(result)\n",
      "\n"
     ]
    }
   ],
   "source": [
    "import base64\n",
    "\n",
    "dna = \"aW1wb3J0IGJhc2U2NAoKZG5hID0gIioiCnJlc3VsdCA9IGJhc2U2NC5iNjRkZWNvZGUoZG5hKS5kZWNvZGUoInV0Zi04IikKcmVzdWx0ID0gcmVzdWx0LnJlcGxhY2UoIioiLCBkbmEsIDEpCnByaW50KHJlc3VsdCkK\"\n",
    "result = base64.b64decode(dna).decode(\"utf-8\")\n",
    "result = result.replace(\"*\", dna, 1)\n",
    "print(result)"
   ]
  },
  {
   "cell_type": "code",
   "execution_count": 70,
   "metadata": {},
   "outputs": [
    {
     "name": "stdout",
     "output_type": "stream",
     "text": [
      "import base64\n",
      "\n",
      "dna = \"aW1wb3J0IGJhc2U2NAoKZG5hID0gIioiCnJlc3VsdCA9IGJhc2U2NC5iNjRkZWNvZGUoZG5hKS5kZWNvZGUoInV0Zi04IikKcmVzdWx0ID0gcmVzdWx0LnJlcGxhY2UoIioiLCBkbmEsIDEpCnByaW50KHJlc3VsdCkK\"\n",
      "result = base64.b64decode(dna).decode(\"utf-8\")\n",
      "result = result.replace(\"*\", dna, 1)\n",
      "print(result)\n",
      "\n"
     ]
    }
   ],
   "source": [
    "import base64\n",
    "\n",
    "dna = \"aW1wb3J0IGJhc2U2NAoKZG5hID0gIioiCnJlc3VsdCA9IGJhc2U2NC5iNjRkZWNvZGUoZG5hKS5kZWNvZGUoInV0Zi04IikKcmVzdWx0ID0gcmVzdWx0LnJlcGxhY2UoIioiLCBkbmEsIDEpCnByaW50KHJlc3VsdCkK\"\n",
    "result = base64.b64decode(dna).decode(\"utf-8\")\n",
    "result = result.replace(\"*\", dna, 1)\n",
    "print(result)"
   ]
  },
  {
   "cell_type": "code",
   "execution_count": 71,
   "metadata": {},
   "outputs": [
    {
     "name": "stdout",
     "output_type": "stream",
     "text": [
      "import base64\n",
      "\n",
      "dna = \"aW1wb3J0IGJhc2U2NAoKZG5hID0gIioiCnJlc3VsdCA9IGJhc2U2NC5iNjRkZWNvZGUoZG5hKS5kZWNvZGUoInV0Zi04IikKcmVzdWx0ID0gcmVzdWx0LnJlcGxhY2UoIioiLCBkbmEsIDEpCnByaW50KHJlc3VsdCkK\"\n",
      "result = base64.b64decode(dna).decode(\"utf-8\")\n",
      "result = result.replace(\"*\", dna, 1)\n",
      "print(result)\n",
      "\n"
     ]
    }
   ],
   "source": [
    "import base64\n",
    "\n",
    "dna = \"aW1wb3J0IGJhc2U2NAoKZG5hID0gIioiCnJlc3VsdCA9IGJhc2U2NC5iNjRkZWNvZGUoZG5hKS5kZWNvZGUoInV0Zi04IikKcmVzdWx0ID0gcmVzdWx0LnJlcGxhY2UoIioiLCBkbmEsIDEpCnByaW50KHJlc3VsdCkK\"\n",
    "result = base64.b64decode(dna).decode(\"utf-8\")\n",
    "result = result.replace(\"*\", dna, 1)\n",
    "print(result)"
   ]
  },
  {
   "cell_type": "code",
   "execution_count": 72,
   "metadata": {},
   "outputs": [
    {
     "name": "stdout",
     "output_type": "stream",
     "text": [
      "import base64\n",
      "\n",
      "dna = \"aW1wb3J0IGJhc2U2NAoKZG5hID0gIioiCnJlc3VsdCA9IGJhc2U2NC5iNjRkZWNvZGUoZG5hKS5kZWNvZGUoInV0Zi04IikKcmVzdWx0ID0gcmVzdWx0LnJlcGxhY2UoIioiLCBkbmEsIDEpCnByaW50KHJlc3VsdCkK\"\n",
      "result = base64.b64decode(dna).decode(\"utf-8\")\n",
      "result = result.replace(\"*\", dna, 1)\n",
      "print(result)\n",
      "\n"
     ]
    }
   ],
   "source": [
    "import base64\n",
    "\n",
    "dna = \"aW1wb3J0IGJhc2U2NAoKZG5hID0gIioiCnJlc3VsdCA9IGJhc2U2NC5iNjRkZWNvZGUoZG5hKS5kZWNvZGUoInV0Zi04IikKcmVzdWx0ID0gcmVzdWx0LnJlcGxhY2UoIioiLCBkbmEsIDEpCnByaW50KHJlc3VsdCkK\"\n",
    "result = base64.b64decode(dna).decode(\"utf-8\")\n",
    "result = result.replace(\"*\", dna, 1)\n",
    "print(result)"
   ]
  },
  {
   "cell_type": "markdown",
   "metadata": {},
   "source": [
    "### encode helper"
   ]
  },
  {
   "cell_type": "code",
   "execution_count": 31,
   "metadata": {},
   "outputs": [
    {
     "name": "stdout",
     "output_type": "stream",
     "text": [
      "aW1wb3J0IGJhc2U2NAoKZG5hID0gIioiCnJlc3VsdCA9IGJhc2U2NC5iNjRkZWNvZGUoZG5hKS5kZWNvZGUoInV0Zi04IikKcmVzdWx0ID0gcmVzdWx0LnJlcGxhY2UoIioiLCBkbmEsIDEpCnByaW50KHJlc3VsdCkK\n"
     ]
    }
   ],
   "source": [
    "import base64\n",
    "\n",
    "help_source = \"\"\"import base64\n",
    "\n",
    "dna = \"*\"\n",
    "result = base64.b64decode(dna).decode(\"utf-8\")\n",
    "result = result.replace(\"*\", dna, 1)\n",
    "print(result)\n",
    "\"\"\".encode(\n",
    "    \"utf-8\"\n",
    ")\n",
    "encoded_dna = base64.b64encode(help_source).decode(\"utf-8\")\n",
    "print(encoded_dna)"
   ]
  },
  {
   "cell_type": "code",
   "execution_count": 159,
   "metadata": {},
   "outputs": [
    {
     "name": "stdout",
     "output_type": "stream",
     "text": [
      "y = \"\"\"\\ndef quine_replace(q):\\n    q = q.replace('\\\\\\\\', '\\\\\\\\\\\\\\\\')\\n    q = q.replace('\\\\n', '\\\\\\\\n')\\n    q = q.replace('\\\"', '\\\\\\\\\\\"')\\n    return q\\n\\nquine_program = 'y = \\\"\\\"\\\"' + quine_replace(y) + '\\\"\\\"\\\"' + \\\"\\\\nexec(\\\" + 'y)'\\nprint(quine_program)\\n\"\"\"\n",
      "exec(y)\n"
     ]
    }
   ],
   "source": [
    "y = \"\"\"\n",
    "def quine_replace(q):\n",
    "    q = q.replace('\\\\\\\\', '\\\\\\\\\\\\\\\\')\n",
    "    q = q.replace('\\\\n', '\\\\\\\\n')\n",
    "    q = q.replace('\\\"', '\\\\\\\\\\\"')\n",
    "    return q\n",
    "\n",
    "quine_program = 'y = \\\"\\\"\\\"' + quine_replace(y) + '\\\"\\\"\\\"' + \\\"\\\\nexec(\\\" + 'y)'\n",
    "print(quine_program)\n",
    "\"\"\"\n",
    "\n",
    "exec(y)"
   ]
  },
  {
   "cell_type": "code",
   "execution_count": 162,
   "metadata": {},
   "outputs": [
    {
     "data": {
      "text/plain": [
       "'y = \"\"\"\\\\ndef quine_replace(q):\\\\n    q = q.replace(\\'\\\\\\\\\\\\\\\\\\', \\'\\\\\\\\\\\\\\\\\\\\\\\\\\\\\\\\\\')\\\\n    q = q.replace(\\'\\\\\\\\n\\', \\'\\\\\\\\\\\\\\\\n\\')\\\\n    q = q.replace(\\'\\\\\"\\', \\'\\\\\\\\\\\\\\\\\\\\\"\\')\\\\n    return q\\\\n\\\\nquine_program = \\'y = \\\\\"\\\\\"\\\\\"\\' + quine_replace(y) + \\'\\\\\"\\\\\"\\\\\"\\' + \\\\\"\\\\\\\\nexec(\\\\\" + \\'y)\\'\\\\nprint(quine_program)\\\\n\"\"\"\\nexec(y)'"
      ]
     },
     "execution_count": 162,
     "metadata": {},
     "output_type": "execute_result"
    }
   ],
   "source": [
    "quine_program"
   ]
  },
  {
   "cell_type": "code",
   "execution_count": 161,
   "metadata": {},
   "outputs": [
    {
     "name": "stdout",
     "output_type": "stream",
     "text": [
      "y = \"\"\"\\ndef quine_replace(q):\\n    q = q.replace('\\\\\\\\', '\\\\\\\\\\\\\\\\')\\n    q = q.replace('\\\\n', '\\\\\\\\n')\\n    q = q.replace('\\\"', '\\\\\\\\\\\"')\\n    return q\\n\\nquine_program = 'y = \\\"\\\"\\\"' + quine_replace(y) + '\\\"\\\"\\\"' + \\\"\\\\nexec(\\\" + 'y)'\\nprint(quine_program)\\n\"\"\"\n",
      "exec(y)\n"
     ]
    }
   ],
   "source": [
    "print(quine_program)"
   ]
  },
  {
   "cell_type": "code",
   "execution_count": 152,
   "metadata": {},
   "outputs": [
    {
     "name": "stdout",
     "output_type": "stream",
     "text": [
      "\n",
      "def quine_replace(q):\n",
      "    q = q.replace('\\\\', '\\\\\\\\')\n",
      "    q = q.replace('\\n', '\\\\n')\n",
      "    q = q.replace('\"', '\\\\\"')\n",
      "    return q\n",
      "\n",
      "res = 'y = \"\"\"' + quine_replace(y) + '\"\"\"'\n",
      "print(res)\n",
      "print(\"\\nexec(\" + 'y)')\n",
      "\n"
     ]
    }
   ],
   "source": [
    "print(\"\"\"\\ndef quine_replace(q):\\n    q = q.replace('\\\\\\\\', '\\\\\\\\\\\\\\\\')\\n    q = q.replace('\\\\n', '\\\\\\\\n')\\n    q = q.replace('\\\"', '\\\\\\\\\\\"')\\n    return q\\n\\nres = 'y = \\\"\\\"\\\"' + quine_replace(y) + '\\\"\\\"\\\"'\\nprint(res)\\nprint(\\\"\\\\nexec(\\\" + 'y)')\\n\"\"\")"
   ]
  },
  {
   "cell_type": "code",
   "execution_count": 158,
   "metadata": {},
   "outputs": [
    {
     "name": "stdout",
     "output_type": "stream",
     "text": [
      "\n",
      "def quine_replace(q):\n",
      "    q = q.replace('\\\\\\\\', '\\\\\\\\\\\\\\\\')\n",
      "    q = q.replace('\\\\n', '\\\\\\\\\\n')\n",
      "    q = q.replace('\\\\\"', '\\\\\\\\\\\\\"')\n",
      "    return q\n",
      "\n",
      "quine_program = 'y = \\\\\"\\\\\"\\\\\"' + quine_replace(y) + '\\\\\"\\\\\"\\\\\"' + \\\\\"\\\\nexec(\\\\\" + 'y)'\n",
      "print(quine_program)\n",
      "\n"
     ]
    }
   ],
   "source": [
    "y = \"\"\"\n",
    "def quine_replace(q):\n",
    "    q = q.replace('\\\\\\\\', '\\\\\\\\\\\\\\\\')\n",
    "    q = q.replace('\\\\n', '\\\\\\\\n')\n",
    "    q = q.replace('\\\"', '\\\\\\\\\\\"')\n",
    "    return q\n",
    "\n",
    "quine_program = 'y = \\\"\\\"\\\"' + quine_replace(y) + '\\\"\\\"\\\"' + \\\"\\\\nexec(\\\" + 'y)'\n",
    "print(quine_program)\n",
    "\"\"\"\n",
    "\n",
    "\n",
    "def quine_replace(q):\n",
    "    q = q.replace('\\\\\\\\', '\\\\\\\\\\\\\\\\')\n",
    "    q = q.replace('\\\\n', '\\\\\\\\n')\n",
    "    q = q.replace('\\\"', '\\\\\\\\\\\"')\n",
    "    return q\n",
    "\n",
    "\n",
    "print(quine_replace(y))"
   ]
  },
  {
   "cell_type": "code",
   "execution_count": 163,
   "metadata": {},
   "outputs": [
    {
     "ename": "NameError",
     "evalue": "name '__file__' is not defined",
     "output_type": "error",
     "traceback": [
      "\u001b[0;31m---------------------------------------------------------------------------\u001b[0m",
      "\u001b[0;31mNameError\u001b[0m                                 Traceback (most recent call last)",
      "Cell \u001b[0;32mIn[163], line 1\u001b[0m\n\u001b[0;32m----> 1\u001b[0m \u001b[38;5;18;43m__file__\u001b[39;49m\n",
      "\u001b[0;31mNameError\u001b[0m: name '__file__' is not defined"
     ]
    }
   ],
   "source": [
    "__file__"
   ]
  }
 ],
 "metadata": {
  "kernelspec": {
   "display_name": "base",
   "language": "python",
   "name": "python3"
  },
  "language_info": {
   "codemirror_mode": {
    "name": "ipython",
    "version": 3
   },
   "file_extension": ".py",
   "mimetype": "text/x-python",
   "name": "python",
   "nbconvert_exporter": "python",
   "pygments_lexer": "ipython3",
   "version": "3.10.13"
  }
 },
 "nbformat": 4,
 "nbformat_minor": 2
}
